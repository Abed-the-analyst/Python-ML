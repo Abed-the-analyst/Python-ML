{
 "cells": [
  {
   "cell_type": "markdown",
   "id": "3fdf26a5-4fe9-45eb-8efc-6f5af0408cdf",
   "metadata": {},
   "source": [
    "# Sale of apartments in Modi'in"
   ]
  },
  {
   "cell_type": "markdown",
   "id": "efd2196c-48cc-4b2d-a2ad-5f5cb5a13752",
   "metadata": {},
   "source": [
    "## Dataset of sale apartments in the second half of 2020, Modi'in Israel"
   ]
  },
  {
   "cell_type": "code",
   "execution_count": 1,
   "id": "96489187-3ab0-4739-bd58-8a233ba73483",
   "metadata": {},
   "outputs": [],
   "source": [
    "# import libraries\n",
    "import sklearn\n",
    "from sklearn.preprocessing import StandardScaler\n",
    "import matplotlib.pyplot as plt # plotting\n",
    "import seaborn as sns\n",
    "import numpy as np # linear algebra\n",
    "import pandas as pd"
   ]
  },
  {
   "cell_type": "code",
   "execution_count": 2,
   "id": "93365715-a405-4945-a21e-57535c25eff9",
   "metadata": {},
   "outputs": [
    {
     "name": "stdout",
     "output_type": "stream",
     "text": [
      "1.21.5\n",
      "0.11.2\n",
      "1.4.1\n",
      "3.9.7 (default, Sep 16 2021, 16:59:28) [MSC v.1916 64 bit (AMD64)]\n",
      "1.0.2\n"
     ]
    }
   ],
   "source": [
    "print(np.__version__)\n",
    "print(sns.__version__)\n",
    "print(pd.__version__)\n",
    "import sys\n",
    "print(sys.version)\n",
    "print(sklearn.__version__)"
   ]
  },
  {
   "cell_type": "code",
   "execution_count": 3,
   "id": "2a210a75-1f4f-4339-99b8-9ce76bbed097",
   "metadata": {},
   "outputs": [],
   "source": [
    "df = pd.read_csv(r'C:\\Users\\abedw\\DataBases\\modiin_2020.csv')"
   ]
  },
  {
   "cell_type": "markdown",
   "id": "dab1d716-2c6c-495b-980b-93ec8ff478ce",
   "metadata": {},
   "source": [
    "### read data"
   ]
  },
  {
   "cell_type": "code",
   "execution_count": 4,
   "id": "33ea6d90-3989-412b-b99b-f410967352ce",
   "metadata": {},
   "outputs": [
    {
     "data": {
      "text/html": [
       "<div>\n",
       "<style scoped>\n",
       "    .dataframe tbody tr th:only-of-type {\n",
       "        vertical-align: middle;\n",
       "    }\n",
       "\n",
       "    .dataframe tbody tr th {\n",
       "        vertical-align: top;\n",
       "    }\n",
       "\n",
       "    .dataframe thead th {\n",
       "        text-align: right;\n",
       "    }\n",
       "</style>\n",
       "<table border=\"1\" class=\"dataframe\">\n",
       "  <thead>\n",
       "    <tr style=\"text-align: right;\">\n",
       "      <th></th>\n",
       "      <th>ID</th>\n",
       "      <th>DATE</th>\n",
       "      <th>PRICE</th>\n",
       "      <th>PRICE_VALUE</th>\n",
       "      <th>TYPE</th>\n",
       "      <th>PART_SOLD</th>\n",
       "      <th>CITY</th>\n",
       "      <th>YEAR_building</th>\n",
       "      <th>sq_meter</th>\n",
       "      <th>ROOMS</th>\n",
       "    </tr>\n",
       "  </thead>\n",
       "  <tbody>\n",
       "    <tr>\n",
       "      <th>0</th>\n",
       "      <td>005956-0091-005-18</td>\n",
       "      <td>01/06/2020</td>\n",
       "      <td>2330000</td>\n",
       "      <td>2330000</td>\n",
       "      <td>Apartment in a building</td>\n",
       "      <td>1.0</td>\n",
       "      <td>modiin</td>\n",
       "      <td>2022</td>\n",
       "      <td>121</td>\n",
       "      <td>5.0</td>\n",
       "    </tr>\n",
       "    <tr>\n",
       "      <th>1</th>\n",
       "      <td>080073-0011-000-00</td>\n",
       "      <td>10/06/2020</td>\n",
       "      <td>1389146</td>\n",
       "      <td>1389146</td>\n",
       "      <td>Apartment in a building</td>\n",
       "      <td>1.0</td>\n",
       "      <td>modiin</td>\n",
       "      <td>2020</td>\n",
       "      <td>108</td>\n",
       "      <td>4.0</td>\n",
       "    </tr>\n",
       "    <tr>\n",
       "      <th>2</th>\n",
       "      <td>080072-0026-000-00</td>\n",
       "      <td>15/06/2020</td>\n",
       "      <td>2114064</td>\n",
       "      <td>2114064</td>\n",
       "      <td>Apartment in a building</td>\n",
       "      <td>1.0</td>\n",
       "      <td>modiin</td>\n",
       "      <td>2020</td>\n",
       "      <td>104</td>\n",
       "      <td>4.0</td>\n",
       "    </tr>\n",
       "    <tr>\n",
       "      <th>3</th>\n",
       "      <td>005569-0036-052-00</td>\n",
       "      <td>01/06/2020</td>\n",
       "      <td>2020000</td>\n",
       "      <td>20000000</td>\n",
       "      <td>Apartment in a building</td>\n",
       "      <td>1.0</td>\n",
       "      <td>modiin</td>\n",
       "      <td>1997</td>\n",
       "      <td>100</td>\n",
       "      <td>3.0</td>\n",
       "    </tr>\n",
       "    <tr>\n",
       "      <th>4</th>\n",
       "      <td>080073-0029-002-00</td>\n",
       "      <td>01/06/2020</td>\n",
       "      <td>2152682</td>\n",
       "      <td>2152682</td>\n",
       "      <td>Apartment in a building</td>\n",
       "      <td>1.0</td>\n",
       "      <td>modiin</td>\n",
       "      <td>2020</td>\n",
       "      <td>128</td>\n",
       "      <td>5.0</td>\n",
       "    </tr>\n",
       "  </tbody>\n",
       "</table>\n",
       "</div>"
      ],
      "text/plain": [
       "                   ID        DATE    PRICE  PRICE_VALUE  \\\n",
       "0  005956-0091-005-18  01/06/2020  2330000      2330000   \n",
       "1  080073-0011-000-00  10/06/2020  1389146      1389146   \n",
       "2  080072-0026-000-00  15/06/2020  2114064      2114064   \n",
       "3  005569-0036-052-00  01/06/2020  2020000     20000000   \n",
       "4  080073-0029-002-00  01/06/2020  2152682      2152682   \n",
       "\n",
       "                      TYPE  PART_SOLD    CITY  YEAR_building  sq_meter  ROOMS  \n",
       "0  Apartment in a building        1.0  modiin           2022       121    5.0  \n",
       "1  Apartment in a building        1.0  modiin           2020       108    4.0  \n",
       "2  Apartment in a building        1.0  modiin           2020       104    4.0  \n",
       "3  Apartment in a building        1.0  modiin           1997       100    3.0  \n",
       "4  Apartment in a building        1.0  modiin           2020       128    5.0  "
      ]
     },
     "execution_count": 4,
     "metadata": {},
     "output_type": "execute_result"
    }
   ],
   "source": [
    "df.head()"
   ]
  },
  {
   "cell_type": "code",
   "execution_count": 5,
   "id": "b1e99d52-1e12-4c33-a8f1-f866f1e296c0",
   "metadata": {},
   "outputs": [
    {
     "data": {
      "text/plain": [
       "(1451, 10)"
      ]
     },
     "execution_count": 5,
     "metadata": {},
     "output_type": "execute_result"
    }
   ],
   "source": [
    "df.shape"
   ]
  },
  {
   "cell_type": "code",
   "execution_count": 6,
   "id": "cfe130cd-d4ed-40c7-aa81-817a2a096103",
   "metadata": {
    "collapsed": true,
    "jupyter": {
     "outputs_hidden": true
    },
    "tags": []
   },
   "outputs": [
    {
     "data": {
      "text/html": [
       "<div>\n",
       "<style scoped>\n",
       "    .dataframe tbody tr th:only-of-type {\n",
       "        vertical-align: middle;\n",
       "    }\n",
       "\n",
       "    .dataframe tbody tr th {\n",
       "        vertical-align: top;\n",
       "    }\n",
       "\n",
       "    .dataframe thead th {\n",
       "        text-align: right;\n",
       "    }\n",
       "</style>\n",
       "<table border=\"1\" class=\"dataframe\">\n",
       "  <thead>\n",
       "    <tr style=\"text-align: right;\">\n",
       "      <th></th>\n",
       "      <th>PRICE</th>\n",
       "      <th>PRICE_VALUE</th>\n",
       "      <th>PART_SOLD</th>\n",
       "      <th>YEAR_building</th>\n",
       "      <th>sq_meter</th>\n",
       "      <th>ROOMS</th>\n",
       "    </tr>\n",
       "  </thead>\n",
       "  <tbody>\n",
       "    <tr>\n",
       "      <th>count</th>\n",
       "      <td>1.451000e+03</td>\n",
       "      <td>1.451000e+03</td>\n",
       "      <td>1451.000000</td>\n",
       "      <td>1451.000000</td>\n",
       "      <td>1451.000000</td>\n",
       "      <td>1451.000000</td>\n",
       "    </tr>\n",
       "    <tr>\n",
       "      <th>mean</th>\n",
       "      <td>1.750642e+06</td>\n",
       "      <td>1.763033e+06</td>\n",
       "      <td>0.947851</td>\n",
       "      <td>1883.753963</td>\n",
       "      <td>105.990351</td>\n",
       "      <td>3.862164</td>\n",
       "    </tr>\n",
       "    <tr>\n",
       "      <th>std</th>\n",
       "      <td>7.052201e+05</td>\n",
       "      <td>8.525338e+05</td>\n",
       "      <td>0.179198</td>\n",
       "      <td>498.833165</td>\n",
       "      <td>38.577337</td>\n",
       "      <td>1.345858</td>\n",
       "    </tr>\n",
       "    <tr>\n",
       "      <th>min</th>\n",
       "      <td>1.750000e+04</td>\n",
       "      <td>1.750000e+04</td>\n",
       "      <td>0.010000</td>\n",
       "      <td>0.000000</td>\n",
       "      <td>0.000000</td>\n",
       "      <td>0.000000</td>\n",
       "    </tr>\n",
       "    <tr>\n",
       "      <th>25%</th>\n",
       "      <td>1.261812e+06</td>\n",
       "      <td>1.261812e+06</td>\n",
       "      <td>1.000000</td>\n",
       "      <td>2009.000000</td>\n",
       "      <td>83.000000</td>\n",
       "      <td>3.000000</td>\n",
       "    </tr>\n",
       "    <tr>\n",
       "      <th>50%</th>\n",
       "      <td>1.628392e+06</td>\n",
       "      <td>1.628392e+06</td>\n",
       "      <td>1.000000</td>\n",
       "      <td>2020.000000</td>\n",
       "      <td>109.000000</td>\n",
       "      <td>4.000000</td>\n",
       "    </tr>\n",
       "    <tr>\n",
       "      <th>75%</th>\n",
       "      <td>2.125000e+06</td>\n",
       "      <td>2.125547e+06</td>\n",
       "      <td>1.000000</td>\n",
       "      <td>2020.000000</td>\n",
       "      <td>127.000000</td>\n",
       "      <td>5.000000</td>\n",
       "    </tr>\n",
       "    <tr>\n",
       "      <th>max</th>\n",
       "      <td>4.300000e+06</td>\n",
       "      <td>2.000000e+07</td>\n",
       "      <td>1.000000</td>\n",
       "      <td>2023.000000</td>\n",
       "      <td>261.000000</td>\n",
       "      <td>8.000000</td>\n",
       "    </tr>\n",
       "  </tbody>\n",
       "</table>\n",
       "</div>"
      ],
      "text/plain": [
       "              PRICE   PRICE_VALUE    PART_SOLD  YEAR_building     sq_meter  \\\n",
       "count  1.451000e+03  1.451000e+03  1451.000000    1451.000000  1451.000000   \n",
       "mean   1.750642e+06  1.763033e+06     0.947851    1883.753963   105.990351   \n",
       "std    7.052201e+05  8.525338e+05     0.179198     498.833165    38.577337   \n",
       "min    1.750000e+04  1.750000e+04     0.010000       0.000000     0.000000   \n",
       "25%    1.261812e+06  1.261812e+06     1.000000    2009.000000    83.000000   \n",
       "50%    1.628392e+06  1.628392e+06     1.000000    2020.000000   109.000000   \n",
       "75%    2.125000e+06  2.125547e+06     1.000000    2020.000000   127.000000   \n",
       "max    4.300000e+06  2.000000e+07     1.000000    2023.000000   261.000000   \n",
       "\n",
       "             ROOMS  \n",
       "count  1451.000000  \n",
       "mean      3.862164  \n",
       "std       1.345858  \n",
       "min       0.000000  \n",
       "25%       3.000000  \n",
       "50%       4.000000  \n",
       "75%       5.000000  \n",
       "max       8.000000  "
      ]
     },
     "execution_count": 6,
     "metadata": {},
     "output_type": "execute_result"
    }
   ],
   "source": [
    "df.describe()"
   ]
  },
  {
   "cell_type": "code",
   "execution_count": 7,
   "id": "c1aeb864-2dee-4c11-b75a-ba673b8a0e36",
   "metadata": {},
   "outputs": [
    {
     "data": {
      "text/plain": [
       "ID                object\n",
       "DATE              object\n",
       "PRICE              int64\n",
       "PRICE_VALUE        int64\n",
       "TYPE              object\n",
       "PART_SOLD        float64\n",
       "CITY              object\n",
       "YEAR_building      int64\n",
       "sq_meter           int64\n",
       "ROOMS            float64\n",
       "dtype: object"
      ]
     },
     "execution_count": 7,
     "metadata": {},
     "output_type": "execute_result"
    }
   ],
   "source": [
    "df.dtypes"
   ]
  },
  {
   "cell_type": "markdown",
   "id": "0a5c75bd-124f-43cf-8f91-78e59788bde0",
   "metadata": {},
   "source": [
    "### clean data"
   ]
  },
  {
   "cell_type": "code",
   "execution_count": 8,
   "id": "54703e41-5dae-4e73-944c-d282cdc1132a",
   "metadata": {
    "collapsed": true,
    "jupyter": {
     "outputs_hidden": true
    },
    "tags": []
   },
   "outputs": [
    {
     "data": {
      "text/plain": [
       "1.000    1328\n",
       "0.500      64\n",
       "0.333      20\n",
       "0.111       9\n",
       "0.250       6\n",
       "0.050       5\n",
       "0.062       4\n",
       "0.083       3\n",
       "0.750       3\n",
       "0.300       2\n",
       "0.650       1\n",
       "0.010       1\n",
       "0.166       1\n",
       "0.400       1\n",
       "0.900       1\n",
       "0.100       1\n",
       "0.350       1\n",
       "Name: PART_SOLD, dtype: int64"
      ]
     },
     "execution_count": 8,
     "metadata": {},
     "output_type": "execute_result"
    }
   ],
   "source": [
    "df['PART_SOLD'].value_counts()"
   ]
  },
  {
   "cell_type": "code",
   "execution_count": 9,
   "id": "701dad9e-b188-49df-b97f-b980214440ca",
   "metadata": {},
   "outputs": [],
   "source": [
    "df.drop(df.index[df['PART_SOLD'] != 1], inplace=True)\n",
    "df.drop(df.index[df['sq_meter'] == 0], inplace=True)"
   ]
  },
  {
   "cell_type": "code",
   "execution_count": 10,
   "id": "9483a2bc-cc8c-4173-8f08-a32b5254cf45",
   "metadata": {
    "tags": []
   },
   "outputs": [
    {
     "data": {
      "text/plain": [
       "4.0    471\n",
       "5.0    364\n",
       "3.0    359\n",
       "6.0     80\n",
       "4.5     14\n",
       "3.5     11\n",
       "5.5      2\n",
       "2.0      2\n",
       "7.0      1\n",
       "Name: ROOMS, dtype: int64"
      ]
     },
     "execution_count": 10,
     "metadata": {},
     "output_type": "execute_result"
    }
   ],
   "source": [
    "df['ROOMS'].value_counts()"
   ]
  },
  {
   "cell_type": "code",
   "execution_count": 11,
   "id": "0e456a14-d588-473d-9595-378f667b728c",
   "metadata": {
    "tags": []
   },
   "outputs": [
    {
     "data": {
      "text/plain": [
       "0       5\n",
       "1       4\n",
       "2       4\n",
       "3       3\n",
       "4       5\n",
       "       ..\n",
       "1446    4\n",
       "1447    6\n",
       "1448    6\n",
       "1449    5\n",
       "1450    3\n",
       "Name: ROOMS, Length: 1304, dtype: int32"
      ]
     },
     "execution_count": 11,
     "metadata": {},
     "output_type": "execute_result"
    }
   ],
   "source": [
    "df.ROOMS.astype(int)"
   ]
  },
  {
   "cell_type": "code",
   "execution_count": 12,
   "id": "07b66f94-9279-435b-92ae-fe62cb2c1009",
   "metadata": {
    "collapsed": true,
    "jupyter": {
     "outputs_hidden": true
    },
    "tags": []
   },
   "outputs": [
    {
     "data": {
      "text/plain": [
       "2020    803\n",
       "2022     85\n",
       "2018     39\n",
       "2017     31\n",
       "2000     27\n",
       "2019     26\n",
       "1998     25\n",
       "2004     23\n",
       "1999     22\n",
       "2010     20\n",
       "2005     18\n",
       "1997     16\n",
       "2013     16\n",
       "2007     14\n",
       "2012     13\n",
       "1996     13\n",
       "2008     13\n",
       "2003     11\n",
       "2009     11\n",
       "2015     11\n",
       "2006     10\n",
       "2002      9\n",
       "1995      9\n",
       "2021      8\n",
       "2011      8\n",
       "2001      6\n",
       "2016      6\n",
       "2014      6\n",
       "1994      3\n",
       "2023      1\n",
       "1990      1\n",
       "Name: YEAR_building, dtype: int64"
      ]
     },
     "execution_count": 12,
     "metadata": {},
     "output_type": "execute_result"
    }
   ],
   "source": [
    "df['YEAR_building'].value_counts()"
   ]
  },
  {
   "cell_type": "code",
   "execution_count": 13,
   "id": "11088729-2634-426d-b307-7487c51e7277",
   "metadata": {},
   "outputs": [],
   "source": [
    "df['YEAR_building'].replace(0, 2000, inplace=True)"
   ]
  },
  {
   "cell_type": "code",
   "execution_count": 14,
   "id": "ae53aff8-8f53-4d5e-a1e7-55b8ce0bfa89",
   "metadata": {},
   "outputs": [
    {
     "data": {
      "text/plain": [
       "82     123\n",
       "110     64\n",
       "109     60\n",
       "108     55\n",
       "127     46\n",
       "      ... \n",
       "181      1\n",
       "155      1\n",
       "152      1\n",
       "197      1\n",
       "177      1\n",
       "Name: sq_meter, Length: 125, dtype: int64"
      ]
     },
     "execution_count": 14,
     "metadata": {},
     "output_type": "execute_result"
    }
   ],
   "source": [
    "df['sq_meter'].value_counts()"
   ]
  },
  {
   "cell_type": "code",
   "execution_count": 16,
   "id": "738dc7b9-055e-42a9-aea4-bf0d2462d6b9",
   "metadata": {},
   "outputs": [],
   "source": [
    "df1 = df.drop(['ID','CITY','TYPE','DATE','PART_SOLD'], axis=1)\n",
    "X_col = df1.columns"
   ]
  },
  {
   "cell_type": "code",
   "execution_count": 17,
   "id": "a2c7456e-47bd-4648-9d8b-0f8d24f918e4",
   "metadata": {},
   "outputs": [
    {
     "data": {
      "text/plain": [
       "<seaborn.axisgrid.PairGrid at 0x21f46eecac0>"
      ]
     },
     "execution_count": 17,
     "metadata": {},
     "output_type": "execute_result"
    },
    {
     "data": {
      "image/png": "[encoded data removed]",
      "text/plain": [
       "<Figure size 720x720 with 30 Axes>"
      ]
     },
     "metadata": {
      "needs_background": "light"
     },
     "output_type": "display_data"
    }
   ],
   "source": [
    "sns.pairplot(df1, height=2)"
   ]
  },
  {
   "cell_type": "code",
   "execution_count": 18,
   "id": "5bc65155-3c7b-4f0a-b7da-000f2ed3bb53",
   "metadata": {},
   "outputs": [
    {
     "data": {
      "text/html": [
       "<div>\n",
       "<style scoped>\n",
       "    .dataframe tbody tr th:only-of-type {\n",
       "        vertical-align: middle;\n",
       "    }\n",
       "\n",
       "    .dataframe tbody tr th {\n",
       "        vertical-align: top;\n",
       "    }\n",
       "\n",
       "    .dataframe thead th {\n",
       "        text-align: right;\n",
       "    }\n",
       "</style>\n",
       "<table border=\"1\" class=\"dataframe\">\n",
       "  <thead>\n",
       "    <tr style=\"text-align: right;\">\n",
       "      <th></th>\n",
       "      <th>PRICE</th>\n",
       "      <th>PRICE_VALUE</th>\n",
       "      <th>YEAR_building</th>\n",
       "      <th>sq_meter</th>\n",
       "      <th>ROOMS</th>\n",
       "    </tr>\n",
       "  </thead>\n",
       "  <tbody>\n",
       "    <tr>\n",
       "      <th>count</th>\n",
       "      <td>1.304000e+03</td>\n",
       "      <td>1.304000e+03</td>\n",
       "      <td>1304.000000</td>\n",
       "      <td>1304.000000</td>\n",
       "      <td>1304.000000</td>\n",
       "    </tr>\n",
       "    <tr>\n",
       "      <th>mean</th>\n",
       "      <td>1.825931e+06</td>\n",
       "      <td>1.839719e+06</td>\n",
       "      <td>2016.254601</td>\n",
       "      <td>112.986963</td>\n",
       "      <td>4.129218</td>\n",
       "    </tr>\n",
       "    <tr>\n",
       "      <th>std</th>\n",
       "      <td>6.614800e+05</td>\n",
       "      <td>8.311595e+05</td>\n",
       "      <td>7.340605</td>\n",
       "      <td>26.851726</td>\n",
       "      <td>0.897244</td>\n",
       "    </tr>\n",
       "    <tr>\n",
       "      <th>min</th>\n",
       "      <td>9.077920e+05</td>\n",
       "      <td>9.077920e+05</td>\n",
       "      <td>1990.000000</td>\n",
       "      <td>67.000000</td>\n",
       "      <td>2.000000</td>\n",
       "    </tr>\n",
       "    <tr>\n",
       "      <th>25%</th>\n",
       "      <td>1.337916e+06</td>\n",
       "      <td>1.337916e+06</td>\n",
       "      <td>2017.000000</td>\n",
       "      <td>89.000000</td>\n",
       "      <td>3.000000</td>\n",
       "    </tr>\n",
       "    <tr>\n",
       "      <th>50%</th>\n",
       "      <td>1.685222e+06</td>\n",
       "      <td>1.685222e+06</td>\n",
       "      <td>2020.000000</td>\n",
       "      <td>109.000000</td>\n",
       "      <td>4.000000</td>\n",
       "    </tr>\n",
       "    <tr>\n",
       "      <th>75%</th>\n",
       "      <td>2.170246e+06</td>\n",
       "      <td>2.171236e+06</td>\n",
       "      <td>2020.000000</td>\n",
       "      <td>128.000000</td>\n",
       "      <td>5.000000</td>\n",
       "    </tr>\n",
       "    <tr>\n",
       "      <th>max</th>\n",
       "      <td>4.300000e+06</td>\n",
       "      <td>2.000000e+07</td>\n",
       "      <td>2023.000000</td>\n",
       "      <td>261.000000</td>\n",
       "      <td>7.000000</td>\n",
       "    </tr>\n",
       "  </tbody>\n",
       "</table>\n",
       "</div>"
      ],
      "text/plain": [
       "              PRICE   PRICE_VALUE  YEAR_building     sq_meter        ROOMS\n",
       "count  1.304000e+03  1.304000e+03    1304.000000  1304.000000  1304.000000\n",
       "mean   1.825931e+06  1.839719e+06    2016.254601   112.986963     4.129218\n",
       "std    6.614800e+05  8.311595e+05       7.340605    26.851726     0.897244\n",
       "min    9.077920e+05  9.077920e+05    1990.000000    67.000000     2.000000\n",
       "25%    1.337916e+06  1.337916e+06    2017.000000    89.000000     3.000000\n",
       "50%    1.685222e+06  1.685222e+06    2020.000000   109.000000     4.000000\n",
       "75%    2.170246e+06  2.171236e+06    2020.000000   128.000000     5.000000\n",
       "max    4.300000e+06  2.000000e+07    2023.000000   261.000000     7.000000"
      ]
     },
     "execution_count": 18,
     "metadata": {},
     "output_type": "execute_result"
    }
   ],
   "source": [
    "df1.describe()"
   ]
  },
  {
   "cell_type": "code",
   "execution_count": 19,
   "id": "19ccf6d5-970b-446d-bdb1-249942e23229",
   "metadata": {},
   "outputs": [],
   "source": [
    "pd.options.display.float_format = '{:,.2f}'.format"
   ]
  },
  {
   "cell_type": "code",
   "execution_count": 20,
   "id": "1032890f-8e4f-4935-9bad-b9da35dc4f9e",
   "metadata": {},
   "outputs": [
    {
     "data": {
      "text/html": [
       "<div>\n",
       "<style scoped>\n",
       "    .dataframe tbody tr th:only-of-type {\n",
       "        vertical-align: middle;\n",
       "    }\n",
       "\n",
       "    .dataframe tbody tr th {\n",
       "        vertical-align: top;\n",
       "    }\n",
       "\n",
       "    .dataframe thead th {\n",
       "        text-align: right;\n",
       "    }\n",
       "</style>\n",
       "<table border=\"1\" class=\"dataframe\">\n",
       "  <thead>\n",
       "    <tr style=\"text-align: right;\">\n",
       "      <th></th>\n",
       "      <th>PRICE</th>\n",
       "      <th>PRICE_VALUE</th>\n",
       "      <th>YEAR_building</th>\n",
       "      <th>sq_meter</th>\n",
       "      <th>ROOMS</th>\n",
       "    </tr>\n",
       "  </thead>\n",
       "  <tbody>\n",
       "    <tr>\n",
       "      <th>PRICE</th>\n",
       "      <td>1.00</td>\n",
       "      <td>0.80</td>\n",
       "      <td>-0.28</td>\n",
       "      <td>0.77</td>\n",
       "      <td>0.67</td>\n",
       "    </tr>\n",
       "    <tr>\n",
       "      <th>PRICE_VALUE</th>\n",
       "      <td>0.80</td>\n",
       "      <td>1.00</td>\n",
       "      <td>-0.27</td>\n",
       "      <td>0.61</td>\n",
       "      <td>0.51</td>\n",
       "    </tr>\n",
       "    <tr>\n",
       "      <th>YEAR_building</th>\n",
       "      <td>-0.28</td>\n",
       "      <td>-0.27</td>\n",
       "      <td>1.00</td>\n",
       "      <td>-0.13</td>\n",
       "      <td>0.06</td>\n",
       "    </tr>\n",
       "    <tr>\n",
       "      <th>sq_meter</th>\n",
       "      <td>0.77</td>\n",
       "      <td>0.61</td>\n",
       "      <td>-0.13</td>\n",
       "      <td>1.00</td>\n",
       "      <td>0.84</td>\n",
       "    </tr>\n",
       "    <tr>\n",
       "      <th>ROOMS</th>\n",
       "      <td>0.67</td>\n",
       "      <td>0.51</td>\n",
       "      <td>0.06</td>\n",
       "      <td>0.84</td>\n",
       "      <td>1.00</td>\n",
       "    </tr>\n",
       "  </tbody>\n",
       "</table>\n",
       "</div>"
      ],
      "text/plain": [
       "               PRICE  PRICE_VALUE  YEAR_building  sq_meter  ROOMS\n",
       "PRICE           1.00         0.80          -0.28      0.77   0.67\n",
       "PRICE_VALUE     0.80         1.00          -0.27      0.61   0.51\n",
       "YEAR_building  -0.28        -0.27           1.00     -0.13   0.06\n",
       "sq_meter        0.77         0.61          -0.13      1.00   0.84\n",
       "ROOMS           0.67         0.51           0.06      0.84   1.00"
      ]
     },
     "execution_count": 20,
     "metadata": {},
     "output_type": "execute_result"
    }
   ],
   "source": [
    "df1.corr()"
   ]
  },
  {
   "cell_type": "code",
   "execution_count": 21,
   "id": "8901b65a-2186-463e-a85b-16de175c4c6b",
   "metadata": {},
   "outputs": [
    {
     "data": {
      "image/png": "[encoded data removed]",
      "text/plain": [
       "<Figure size 864x576 with 2 Axes>"
      ]
     },
     "metadata": {
      "needs_background": "light"
     },
     "output_type": "display_data"
    }
   ],
   "source": [
    "plt.figure(figsize=(12,8))\n",
    "sns.heatmap(df1.corr(), annot=True, fmt='.2f')\n",
    "plt.show()"
   ]
  },
  {
   "cell_type": "code",
   "execution_count": 22,
   "id": "f128a90d-f006-47e8-81d2-2a504e292c49",
   "metadata": {},
   "outputs": [],
   "source": [
    "y = df1['PRICE'].values"
   ]
  },
  {
   "cell_type": "code",
   "execution_count": 23,
   "id": "362e04ff-e2f4-4fab-a8ff-66ec73eab684",
   "metadata": {},
   "outputs": [],
   "source": [
    "X = df1[['PRICE_VALUE','YEAR_building','sq_meter','ROOMS']].values"
   ]
  },
  {
   "cell_type": "code",
   "execution_count": 24,
   "id": "b1b93784-376e-4b7d-8ef0-b509adbd6f25",
   "metadata": {},
   "outputs": [],
   "source": [
    "from sklearn.model_selection import train_test_split"
   ]
  },
  {
   "cell_type": "code",
   "execution_count": 25,
   "id": "7eeeb58b-3d43-41f3-8826-406fd42f3fb4",
   "metadata": {},
   "outputs": [],
   "source": [
    "X_train, X_test, y_train, y_test = train_test_split(X,y, test_size=0.2, random_state=0)"
   ]
  },
  {
   "cell_type": "code",
   "execution_count": 26,
   "id": "cfa954ee-5238-47ac-936f-7dddb6821358",
   "metadata": {},
   "outputs": [],
   "source": [
    "from sklearn.linear_model import LinearRegression"
   ]
  },
  {
   "cell_type": "code",
   "execution_count": 56,
   "id": "40eda56b-a5f5-4dde-bb49-d69af60f797e",
   "metadata": {},
   "outputs": [],
   "source": [
    "model = LinearRegression()"
   ]
  },
  {
   "cell_type": "code",
   "execution_count": 57,
   "id": "d6d0ba6f-b2d8-4516-941c-15e8b221e6a8",
   "metadata": {},
   "outputs": [
    {
     "data": {
      "text/plain": [
       "LinearRegression()"
      ]
     },
     "execution_count": 57,
     "metadata": {},
     "output_type": "execute_result"
    }
   ],
   "source": [
    "model.fit(X_train,y_train)"
   ]
  },
  {
   "cell_type": "code",
   "execution_count": 58,
   "id": "1285f5f7-53bc-4a3b-b0a9-a875ec23a56d",
   "metadata": {},
   "outputs": [
    {
     "data": {
      "text/plain": [
       "array([ 3.47726751e-01, -1.08557996e+04,  9.26982233e+03,  1.04691281e+05])"
      ]
     },
     "execution_count": 58,
     "metadata": {},
     "output_type": "execute_result"
    }
   ],
   "source": [
    "model.coef_"
   ]
  },
  {
   "cell_type": "code",
   "execution_count": 59,
   "id": "cb2b26a4-1645-4a22-8ec9-9d8b35dfdb6d",
   "metadata": {},
   "outputs": [
    {
     "data": {
      "text/plain": [
       "21596679.284321316"
      ]
     },
     "execution_count": 59,
     "metadata": {},
     "output_type": "execute_result"
    }
   ],
   "source": [
    "model.intercept_"
   ]
  },
  {
   "cell_type": "markdown",
   "id": "2cd49203-33b7-467a-867c-ec950204292d",
   "metadata": {},
   "source": [
    "plt.figure(figsize=(14,10))\n",
    "sns.regplot(x=X_train,y=y_train)\n",
    "plt.xlabel('Number of rooms')\n",
    "plt.ylabel('price')\n",
    "plt.show()"
   ]
  },
  {
   "cell_type": "code",
   "execution_count": 60,
   "id": "61289836-79d7-4670-861b-19dc94cb52b2",
   "metadata": {},
   "outputs": [],
   "source": [
    "# linear model here isn't very helpful i think random forest would be better option in this scenario"
   ]
  },
  {
   "cell_type": "code",
   "execution_count": null,
   "id": "46aacb42-46db-4628-82d1-eefb9e3ed23b",
   "metadata": {},
   "outputs": [],
   "source": []
  },
  {
   "cell_type": "code",
   "execution_count": null,
   "id": "b450ba05-7276-4c24-b19c-0d86dc8be57d",
   "metadata": {},
   "outputs": [],
   "source": []
  },
  {
   "cell_type": "code",
   "execution_count": null,
   "id": "53017eb3-6808-43ae-b3e2-e3d5b2f62a91",
   "metadata": {},
   "outputs": [],
   "source": []
  },
  {
   "cell_type": "code",
   "execution_count": null,
   "id": "a2e96601-cf0d-4e8d-a41e-3fe77f692ed1",
   "metadata": {},
   "outputs": [],
   "source": []
  },
  {
   "cell_type": "code",
   "execution_count": null,
   "id": "894bcaa4-e776-4b70-9e70-78698ee5399d",
   "metadata": {},
   "outputs": [],
   "source": []
  },
  {
   "cell_type": "code",
   "execution_count": 61,
   "id": "d6781c75-fb7b-4b09-bdd1-5f39fbcd1bd5",
   "metadata": {},
   "outputs": [],
   "source": [
    "from sklearn.metrics import r2_score"
   ]
  },
  {
   "cell_type": "code",
   "execution_count": 70,
   "id": "eb21db58-288f-4632-9c81-057a15c3cc91",
   "metadata": {},
   "outputs": [],
   "source": [
    "y_train_pred= model.predict(X_train)\n",
    "y_test_pred= model.predict(X_test)"
   ]
  },
  {
   "cell_type": "code",
   "execution_count": 71,
   "id": "1d025863-da3b-476a-97dd-86ab358509aa",
   "metadata": {},
   "outputs": [
    {
     "data": {
      "text/plain": [
       "0.7626004744824453"
      ]
     },
     "execution_count": 71,
     "metadata": {},
     "output_type": "execute_result"
    }
   ],
   "source": [
    "r2_score(y_train, y_train_pred)"
   ]
  },
  {
   "cell_type": "code",
   "execution_count": 72,
   "id": "6b16a84a-cf8b-4e26-9c1b-67b989ea751d",
   "metadata": {},
   "outputs": [
    {
     "data": {
      "text/plain": [
       "0.8646715616205528"
      ]
     },
     "execution_count": 72,
     "metadata": {},
     "output_type": "execute_result"
    }
   ],
   "source": [
    "r2_score(y_test, y_test_pred)"
   ]
  },
  {
   "cell_type": "code",
   "execution_count": 73,
   "id": "9fab32cd-365e-4cd1-af77-56e962a35d3f",
   "metadata": {},
   "outputs": [],
   "source": [
    "from sklearn.metrics import mean_absolute_error"
   ]
  },
  {
   "cell_type": "code",
   "execution_count": 77,
   "id": "fa9e844b-28eb-4f55-8bb4-7e3bbe263b98",
   "metadata": {},
   "outputs": [
    {
     "data": {
      "text/plain": [
       "211397.8595831647"
      ]
     },
     "execution_count": 77,
     "metadata": {},
     "output_type": "execute_result"
    }
   ],
   "source": [
    "mean_absolute_error(y_train, y_train_pred)"
   ]
  },
  {
   "cell_type": "code",
   "execution_count": 78,
   "id": "aaa422bd-e566-4601-a715-bc92adfc873a",
   "metadata": {},
   "outputs": [
    {
     "data": {
      "text/plain": [
       "189586.92548412623"
      ]
     },
     "execution_count": 78,
     "metadata": {},
     "output_type": "execute_result"
    }
   ],
   "source": [
    "mean_absolute_error(y_test, y_test_pred)"
   ]
  },
  {
   "cell_type": "markdown",
   "id": "869433cd-d296-4347-b1fa-185938a3477e",
   "metadata": {},
   "source": [
    "### our Linear Regression model did well with an error margin of 189k"
   ]
  },
  {
   "cell_type": "markdown",
   "id": "82b0f29e-008a-4cdd-b886-90123b19f758",
   "metadata": {},
   "source": []
  },
  {
   "cell_type": "code",
   "execution_count": null,
   "id": "812a51b0-b5ac-44d0-b331-4b19826ae5b7",
   "metadata": {},
   "outputs": [],
   "source": []
  },
  {
   "cell_type": "code",
   "execution_count": null,
   "id": "142bd01b-06cf-47bb-ae70-1d44f7a67e54",
   "metadata": {},
   "outputs": [],
   "source": []
  },
  {
   "cell_type": "code",
   "execution_count": null,
   "id": "35603741-c7ca-4a42-b1b3-ebd02c9ed13c",
   "metadata": {},
   "outputs": [],
   "source": []
  },
  {
   "cell_type": "markdown",
   "id": "614a8eb4-7409-4914-9f6f-ec1b919cd0a3",
   "metadata": {},
   "source": [
    "### let's tree decision tree "
   ]
  },
  {
   "cell_type": "code",
   "execution_count": 40,
   "id": "358c92c7-d5c2-4a72-866d-c02f1514a0bf",
   "metadata": {},
   "outputs": [],
   "source": [
    "from sklearn.ensemble import ExtraTreesClassifier"
   ]
  },
  {
   "cell_type": "code",
   "execution_count": 41,
   "id": "b4bcbd3f-2b0b-4f2e-8225-d0e5cb0af82b",
   "metadata": {},
   "outputs": [],
   "source": [
    "xt_clf = ExtraTreesClassifier(random_state=0)"
   ]
  },
  {
   "cell_type": "code",
   "execution_count": 68,
   "id": "c09355c6-369f-4ecc-96d2-d997fefd282d",
   "metadata": {},
   "outputs": [
    {
     "data": {
      "text/plain": [
       "ExtraTreesClassifier(random_state=0)"
      ]
     },
     "execution_count": 68,
     "metadata": {},
     "output_type": "execute_result"
    }
   ],
   "source": [
    "xt_clf.fit(X_train, y_train)"
   ]
  },
  {
   "cell_type": "code",
   "execution_count": 76,
   "id": "6ea2bbfd-8d11-4ae4-ae72-85fd4ef09274",
   "metadata": {},
   "outputs": [],
   "source": [
    "xt_clf_y_pred= xt_clf.predict(X_train)\n",
    "xt_clf_test_pred= xt_clf.predict(X_test)"
   ]
  },
  {
   "cell_type": "code",
   "execution_count": 79,
   "id": "1cb57624-8221-41cb-b3eb-46cff250304f",
   "metadata": {},
   "outputs": [
    {
     "data": {
      "text/plain": [
       "0.0"
      ]
     },
     "execution_count": 79,
     "metadata": {},
     "output_type": "execute_result"
    }
   ],
   "source": [
    "mean_absolute_error(y_train, xt_clf_y_pred)"
   ]
  },
  {
   "cell_type": "code",
   "execution_count": 80,
   "id": "5908c238-f017-48a5-9a21-77fa05403bac",
   "metadata": {},
   "outputs": [
    {
     "data": {
      "text/plain": [
       "22663.35632183908"
      ]
     },
     "execution_count": 80,
     "metadata": {},
     "output_type": "execute_result"
    }
   ],
   "source": [
    "mean_absolute_error(y_test, xt_clf_test_pred)"
   ]
  },
  {
   "cell_type": "markdown",
   "id": "2037b597-fa60-46fc-bf20-d342bb4ed90a",
   "metadata": {},
   "source": [
    "### decision tree did much better here passing 100% in train data and with error margin of only 22k on the test data"
   ]
  }
 ],
 "metadata": {
  "kernelspec": {
   "display_name": "Python 3 (ipykernel)",
   "language": "python",
   "name": "python3"
  },
  "language_info": {
   "codemirror_mode": {
    "name": "ipython",
    "version": 3
   },
   "file_extension": ".py",
   "mimetype": "text/x-python",
   "name": "python",
   "nbconvert_exporter": "python",
   "pygments_lexer": "ipython3",
   "version": "3.9.7"
  }
 },
 "nbformat": 4,
 "nbformat_minor": 5
}
