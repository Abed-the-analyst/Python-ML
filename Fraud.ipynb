{
 "cells": [
  {
   "cell_type": "code",
   "execution_count": 2,
   "id": "8fc53047",
   "metadata": {},
   "outputs": [
    {
     "name": "stdout",
     "output_type": "stream",
     "text": [
      "<module 'numpy' from 'E:\\\\anaconda3\\\\envs\\\\MachineLearning\\\\lib\\\\site-packages\\\\numpy\\\\__init__.py'>,1.22.3\n",
      "<module 'pandas' from 'E:\\\\anaconda3\\\\envs\\\\MachineLearning\\\\lib\\\\site-packages\\\\pandas\\\\__init__.py'>,1.4.2 \n",
      "<module 'seaborn' from 'E:\\\\anaconda3\\\\envs\\\\MachineLearning\\\\lib\\\\site-packages\\\\seaborn\\\\__init__.py'>,0.11.2,\n",
      "3.9.12 (main, Apr  4 2022, 05:22:27) [MSC v.1916 64 bit (AMD64)]\n"
     ]
    }
   ],
   "source": [
    "import numpy as np # importing Libraries and initiating tools \n",
    "import pandas as pd\n",
    "import matplotlib.pyplot as plt\n",
    "import seaborn as sns\n",
    "\n",
    "from sklearn.compose import ColumnTransformer\n",
    "from sklearn.pipeline import Pipeline\n",
    "from sklearn.preprocessing import MinMaxScaler, OneHotEncoder\n",
    "from sklearn.impute import SimpleImputer\n",
    "from sklearn.model_selection import train_test_split, cross_val_score\n",
    "from sklearn.model_selection import RandomizedSearchCV, GridSearchCV, KFold\n",
    "from sklearn.metrics import accuracy_score, recall_score, confusion_matrix, roc_curve, classification_report\n",
    "from sklearn.ensemble import AdaBoostClassifier, RandomForestClassifier, ExtraTreesClassifier\n",
    "from sklearn.linear_model import LogisticRegression, SGDClassifier\n",
    "from sklearn.svm import LinearSVC\n",
    "from xgboost import XGBRFClassifier\n",
    "\n",
    "import sys #views the versions of the libraries at the time of writing this code\n",
    "print(f'{np},{np.__version__}\\n{pd},{pd.__version__} \\n{sns},{sns.__version__},\\n{sys.version}')"
   ]
  },
  {
   "cell_type": "markdown",
   "id": "f4b2f2b0",
   "metadata": {},
   "source": [
    "#### Data source: https://www.kaggle.com/datasets/vardhansiramdasu/fraudulent-transactions-prediction"
   ]
  },
  {
   "cell_type": "code",
   "execution_count": 3,
   "id": "f3f0bf7f",
   "metadata": {},
   "outputs": [
    {
     "data": {
      "text/plain": [
       "(6362620, 11)"
      ]
     },
     "execution_count": 3,
     "metadata": {},
     "output_type": "execute_result"
    }
   ],
   "source": [
    "# read the data\n",
    "df = pd.read_csv(r'C:\\Users\\abedw\\DataBases\\Fraud.csv') # 470MB of data\n",
    "df.shape"
   ]
  },
  {
   "cell_type": "code",
   "execution_count": 4,
   "id": "2cce796f",
   "metadata": {},
   "outputs": [
    {
     "data": {
      "text/html": [
       "<div>\n",
       "<style scoped>\n",
       "    .dataframe tbody tr th:only-of-type {\n",
       "        vertical-align: middle;\n",
       "    }\n",
       "\n",
       "    .dataframe tbody tr th {\n",
       "        vertical-align: top;\n",
       "    }\n",
       "\n",
       "    .dataframe thead th {\n",
       "        text-align: right;\n",
       "    }\n",
       "</style>\n",
       "<table border=\"1\" class=\"dataframe\">\n",
       "  <thead>\n",
       "    <tr style=\"text-align: right;\">\n",
       "      <th></th>\n",
       "      <th>step</th>\n",
       "      <th>type</th>\n",
       "      <th>amount</th>\n",
       "      <th>nameOrig</th>\n",
       "      <th>oldbalanceOrg</th>\n",
       "      <th>newbalanceOrig</th>\n",
       "      <th>nameDest</th>\n",
       "      <th>oldbalanceDest</th>\n",
       "      <th>newbalanceDest</th>\n",
       "      <th>isFraud</th>\n",
       "      <th>isFlaggedFraud</th>\n",
       "    </tr>\n",
       "  </thead>\n",
       "  <tbody>\n",
       "    <tr>\n",
       "      <th>0</th>\n",
       "      <td>1</td>\n",
       "      <td>PAYMENT</td>\n",
       "      <td>9839.64</td>\n",
       "      <td>C1231006815</td>\n",
       "      <td>170136.00</td>\n",
       "      <td>160296.36</td>\n",
       "      <td>M1979787155</td>\n",
       "      <td>0.0</td>\n",
       "      <td>0.00</td>\n",
       "      <td>0</td>\n",
       "      <td>0</td>\n",
       "    </tr>\n",
       "    <tr>\n",
       "      <th>1</th>\n",
       "      <td>1</td>\n",
       "      <td>PAYMENT</td>\n",
       "      <td>1864.28</td>\n",
       "      <td>C1666544295</td>\n",
       "      <td>21249.00</td>\n",
       "      <td>19384.72</td>\n",
       "      <td>M2044282225</td>\n",
       "      <td>0.0</td>\n",
       "      <td>0.00</td>\n",
       "      <td>0</td>\n",
       "      <td>0</td>\n",
       "    </tr>\n",
       "    <tr>\n",
       "      <th>2</th>\n",
       "      <td>1</td>\n",
       "      <td>TRANSFER</td>\n",
       "      <td>181.00</td>\n",
       "      <td>C1305486145</td>\n",
       "      <td>181.00</td>\n",
       "      <td>0.00</td>\n",
       "      <td>C553264065</td>\n",
       "      <td>0.0</td>\n",
       "      <td>0.00</td>\n",
       "      <td>1</td>\n",
       "      <td>0</td>\n",
       "    </tr>\n",
       "    <tr>\n",
       "      <th>3</th>\n",
       "      <td>1</td>\n",
       "      <td>CASH_OUT</td>\n",
       "      <td>181.00</td>\n",
       "      <td>C840083671</td>\n",
       "      <td>181.00</td>\n",
       "      <td>0.00</td>\n",
       "      <td>C38997010</td>\n",
       "      <td>21182.0</td>\n",
       "      <td>0.00</td>\n",
       "      <td>1</td>\n",
       "      <td>0</td>\n",
       "    </tr>\n",
       "    <tr>\n",
       "      <th>4</th>\n",
       "      <td>1</td>\n",
       "      <td>PAYMENT</td>\n",
       "      <td>11668.14</td>\n",
       "      <td>C2048537720</td>\n",
       "      <td>41554.00</td>\n",
       "      <td>29885.86</td>\n",
       "      <td>M1230701703</td>\n",
       "      <td>0.0</td>\n",
       "      <td>0.00</td>\n",
       "      <td>0</td>\n",
       "      <td>0</td>\n",
       "    </tr>\n",
       "    <tr>\n",
       "      <th>5</th>\n",
       "      <td>1</td>\n",
       "      <td>PAYMENT</td>\n",
       "      <td>7817.71</td>\n",
       "      <td>C90045638</td>\n",
       "      <td>53860.00</td>\n",
       "      <td>46042.29</td>\n",
       "      <td>M573487274</td>\n",
       "      <td>0.0</td>\n",
       "      <td>0.00</td>\n",
       "      <td>0</td>\n",
       "      <td>0</td>\n",
       "    </tr>\n",
       "    <tr>\n",
       "      <th>6</th>\n",
       "      <td>1</td>\n",
       "      <td>PAYMENT</td>\n",
       "      <td>7107.77</td>\n",
       "      <td>C154988899</td>\n",
       "      <td>183195.00</td>\n",
       "      <td>176087.23</td>\n",
       "      <td>M408069119</td>\n",
       "      <td>0.0</td>\n",
       "      <td>0.00</td>\n",
       "      <td>0</td>\n",
       "      <td>0</td>\n",
       "    </tr>\n",
       "    <tr>\n",
       "      <th>7</th>\n",
       "      <td>1</td>\n",
       "      <td>PAYMENT</td>\n",
       "      <td>7861.64</td>\n",
       "      <td>C1912850431</td>\n",
       "      <td>176087.23</td>\n",
       "      <td>168225.59</td>\n",
       "      <td>M633326333</td>\n",
       "      <td>0.0</td>\n",
       "      <td>0.00</td>\n",
       "      <td>0</td>\n",
       "      <td>0</td>\n",
       "    </tr>\n",
       "    <tr>\n",
       "      <th>8</th>\n",
       "      <td>1</td>\n",
       "      <td>PAYMENT</td>\n",
       "      <td>4024.36</td>\n",
       "      <td>C1265012928</td>\n",
       "      <td>2671.00</td>\n",
       "      <td>0.00</td>\n",
       "      <td>M1176932104</td>\n",
       "      <td>0.0</td>\n",
       "      <td>0.00</td>\n",
       "      <td>0</td>\n",
       "      <td>0</td>\n",
       "    </tr>\n",
       "    <tr>\n",
       "      <th>9</th>\n",
       "      <td>1</td>\n",
       "      <td>DEBIT</td>\n",
       "      <td>5337.77</td>\n",
       "      <td>C712410124</td>\n",
       "      <td>41720.00</td>\n",
       "      <td>36382.23</td>\n",
       "      <td>C195600860</td>\n",
       "      <td>41898.0</td>\n",
       "      <td>40348.79</td>\n",
       "      <td>0</td>\n",
       "      <td>0</td>\n",
       "    </tr>\n",
       "  </tbody>\n",
       "</table>\n",
       "</div>"
      ],
      "text/plain": [
       "   step      type    amount     nameOrig  oldbalanceOrg  newbalanceOrig  \\\n",
       "0     1   PAYMENT   9839.64  C1231006815      170136.00       160296.36   \n",
       "1     1   PAYMENT   1864.28  C1666544295       21249.00        19384.72   \n",
       "2     1  TRANSFER    181.00  C1305486145         181.00            0.00   \n",
       "3     1  CASH_OUT    181.00   C840083671         181.00            0.00   \n",
       "4     1   PAYMENT  11668.14  C2048537720       41554.00        29885.86   \n",
       "5     1   PAYMENT   7817.71    C90045638       53860.00        46042.29   \n",
       "6     1   PAYMENT   7107.77   C154988899      183195.00       176087.23   \n",
       "7     1   PAYMENT   7861.64  C1912850431      176087.23       168225.59   \n",
       "8     1   PAYMENT   4024.36  C1265012928        2671.00            0.00   \n",
       "9     1     DEBIT   5337.77   C712410124       41720.00        36382.23   \n",
       "\n",
       "      nameDest  oldbalanceDest  newbalanceDest  isFraud  isFlaggedFraud  \n",
       "0  M1979787155             0.0            0.00        0               0  \n",
       "1  M2044282225             0.0            0.00        0               0  \n",
       "2   C553264065             0.0            0.00        1               0  \n",
       "3    C38997010         21182.0            0.00        1               0  \n",
       "4  M1230701703             0.0            0.00        0               0  \n",
       "5   M573487274             0.0            0.00        0               0  \n",
       "6   M408069119             0.0            0.00        0               0  \n",
       "7   M633326333             0.0            0.00        0               0  \n",
       "8  M1176932104             0.0            0.00        0               0  \n",
       "9   C195600860         41898.0        40348.79        0               0  "
      ]
     },
     "execution_count": 4,
     "metadata": {},
     "output_type": "execute_result"
    }
   ],
   "source": [
    "df.head(10) #view top rows and column names"
   ]
  },
  {
   "cell_type": "code",
   "execution_count": 5,
   "id": "ffb02f03",
   "metadata": {},
   "outputs": [
    {
     "data": {
      "text/html": [
       "<div>\n",
       "<style scoped>\n",
       "    .dataframe tbody tr th:only-of-type {\n",
       "        vertical-align: middle;\n",
       "    }\n",
       "\n",
       "    .dataframe tbody tr th {\n",
       "        vertical-align: top;\n",
       "    }\n",
       "\n",
       "    .dataframe thead th {\n",
       "        text-align: right;\n",
       "    }\n",
       "</style>\n",
       "<table border=\"1\" class=\"dataframe\">\n",
       "  <thead>\n",
       "    <tr style=\"text-align: right;\">\n",
       "      <th></th>\n",
       "      <th>step</th>\n",
       "      <th>amount</th>\n",
       "      <th>oldbalanceOrg</th>\n",
       "      <th>newbalanceOrig</th>\n",
       "      <th>oldbalanceDest</th>\n",
       "      <th>newbalanceDest</th>\n",
       "      <th>isFraud</th>\n",
       "      <th>isFlaggedFraud</th>\n",
       "    </tr>\n",
       "  </thead>\n",
       "  <tbody>\n",
       "    <tr>\n",
       "      <th>count</th>\n",
       "      <td>6.362620e+06</td>\n",
       "      <td>6.362620e+06</td>\n",
       "      <td>6.362620e+06</td>\n",
       "      <td>6.362620e+06</td>\n",
       "      <td>6.362620e+06</td>\n",
       "      <td>6.362620e+06</td>\n",
       "      <td>6.362620e+06</td>\n",
       "      <td>6.362620e+06</td>\n",
       "    </tr>\n",
       "    <tr>\n",
       "      <th>mean</th>\n",
       "      <td>2.433972e+02</td>\n",
       "      <td>1.798619e+05</td>\n",
       "      <td>8.338831e+05</td>\n",
       "      <td>8.551137e+05</td>\n",
       "      <td>1.100702e+06</td>\n",
       "      <td>1.224996e+06</td>\n",
       "      <td>1.290820e-03</td>\n",
       "      <td>2.514687e-06</td>\n",
       "    </tr>\n",
       "    <tr>\n",
       "      <th>std</th>\n",
       "      <td>1.423320e+02</td>\n",
       "      <td>6.038582e+05</td>\n",
       "      <td>2.888243e+06</td>\n",
       "      <td>2.924049e+06</td>\n",
       "      <td>3.399180e+06</td>\n",
       "      <td>3.674129e+06</td>\n",
       "      <td>3.590480e-02</td>\n",
       "      <td>1.585775e-03</td>\n",
       "    </tr>\n",
       "    <tr>\n",
       "      <th>min</th>\n",
       "      <td>1.000000e+00</td>\n",
       "      <td>0.000000e+00</td>\n",
       "      <td>0.000000e+00</td>\n",
       "      <td>0.000000e+00</td>\n",
       "      <td>0.000000e+00</td>\n",
       "      <td>0.000000e+00</td>\n",
       "      <td>0.000000e+00</td>\n",
       "      <td>0.000000e+00</td>\n",
       "    </tr>\n",
       "    <tr>\n",
       "      <th>25%</th>\n",
       "      <td>1.560000e+02</td>\n",
       "      <td>1.338957e+04</td>\n",
       "      <td>0.000000e+00</td>\n",
       "      <td>0.000000e+00</td>\n",
       "      <td>0.000000e+00</td>\n",
       "      <td>0.000000e+00</td>\n",
       "      <td>0.000000e+00</td>\n",
       "      <td>0.000000e+00</td>\n",
       "    </tr>\n",
       "    <tr>\n",
       "      <th>50%</th>\n",
       "      <td>2.390000e+02</td>\n",
       "      <td>7.487194e+04</td>\n",
       "      <td>1.420800e+04</td>\n",
       "      <td>0.000000e+00</td>\n",
       "      <td>1.327057e+05</td>\n",
       "      <td>2.146614e+05</td>\n",
       "      <td>0.000000e+00</td>\n",
       "      <td>0.000000e+00</td>\n",
       "    </tr>\n",
       "    <tr>\n",
       "      <th>75%</th>\n",
       "      <td>3.350000e+02</td>\n",
       "      <td>2.087215e+05</td>\n",
       "      <td>1.073152e+05</td>\n",
       "      <td>1.442584e+05</td>\n",
       "      <td>9.430367e+05</td>\n",
       "      <td>1.111909e+06</td>\n",
       "      <td>0.000000e+00</td>\n",
       "      <td>0.000000e+00</td>\n",
       "    </tr>\n",
       "    <tr>\n",
       "      <th>max</th>\n",
       "      <td>7.430000e+02</td>\n",
       "      <td>9.244552e+07</td>\n",
       "      <td>5.958504e+07</td>\n",
       "      <td>4.958504e+07</td>\n",
       "      <td>3.560159e+08</td>\n",
       "      <td>3.561793e+08</td>\n",
       "      <td>1.000000e+00</td>\n",
       "      <td>1.000000e+00</td>\n",
       "    </tr>\n",
       "  </tbody>\n",
       "</table>\n",
       "</div>"
      ],
      "text/plain": [
       "               step        amount  oldbalanceOrg  newbalanceOrig  \\\n",
       "count  6.362620e+06  6.362620e+06   6.362620e+06    6.362620e+06   \n",
       "mean   2.433972e+02  1.798619e+05   8.338831e+05    8.551137e+05   \n",
       "std    1.423320e+02  6.038582e+05   2.888243e+06    2.924049e+06   \n",
       "min    1.000000e+00  0.000000e+00   0.000000e+00    0.000000e+00   \n",
       "25%    1.560000e+02  1.338957e+04   0.000000e+00    0.000000e+00   \n",
       "50%    2.390000e+02  7.487194e+04   1.420800e+04    0.000000e+00   \n",
       "75%    3.350000e+02  2.087215e+05   1.073152e+05    1.442584e+05   \n",
       "max    7.430000e+02  9.244552e+07   5.958504e+07    4.958504e+07   \n",
       "\n",
       "       oldbalanceDest  newbalanceDest       isFraud  isFlaggedFraud  \n",
       "count    6.362620e+06    6.362620e+06  6.362620e+06    6.362620e+06  \n",
       "mean     1.100702e+06    1.224996e+06  1.290820e-03    2.514687e-06  \n",
       "std      3.399180e+06    3.674129e+06  3.590480e-02    1.585775e-03  \n",
       "min      0.000000e+00    0.000000e+00  0.000000e+00    0.000000e+00  \n",
       "25%      0.000000e+00    0.000000e+00  0.000000e+00    0.000000e+00  \n",
       "50%      1.327057e+05    2.146614e+05  0.000000e+00    0.000000e+00  \n",
       "75%      9.430367e+05    1.111909e+06  0.000000e+00    0.000000e+00  \n",
       "max      3.560159e+08    3.561793e+08  1.000000e+00    1.000000e+00  "
      ]
     },
     "execution_count": 5,
     "metadata": {},
     "output_type": "execute_result"
    }
   ],
   "source": [
    "#np.set_printoptions(edgeitems=3)\n",
    "df.describe() #describe numerical values in the database"
   ]
  },
  {
   "cell_type": "code",
   "execution_count": 6,
   "id": "e7cf26f5",
   "metadata": {},
   "outputs": [
    {
     "data": {
      "text/plain": [
       "step                int64\n",
       "type               object\n",
       "amount            float64\n",
       "nameOrig           object\n",
       "oldbalanceOrg     float64\n",
       "newbalanceOrig    float64\n",
       "nameDest           object\n",
       "oldbalanceDest    float64\n",
       "newbalanceDest    float64\n",
       "isFraud             int64\n",
       "isFlaggedFraud      int64\n",
       "dtype: object"
      ]
     },
     "execution_count": 6,
     "metadata": {},
     "output_type": "execute_result"
    }
   ],
   "source": [
    "df.dtypes #view data types in the database"
   ]
  },
  {
   "cell_type": "code",
   "execution_count": 7,
   "id": "60a9abeb",
   "metadata": {},
   "outputs": [
    {
     "data": {
      "text/plain": [
       "CASH_OUT    2237500\n",
       "PAYMENT     2151495\n",
       "CASH_IN     1399284\n",
       "TRANSFER     532909\n",
       "DEBIT         41432\n",
       "Name: type, dtype: int64"
      ]
     },
     "execution_count": 7,
     "metadata": {},
     "output_type": "execute_result"
    }
   ],
   "source": [
    "df['type'].value_counts() #view type of transactions catagories and the count of each catagory"
   ]
  },
  {
   "cell_type": "code",
   "execution_count": 8,
   "id": "3a1c0666",
   "metadata": {},
   "outputs": [
    {
     "name": "stdout",
     "output_type": "stream",
     "text": [
      "step  - 0.0%\n",
      "type  - 0.0%\n",
      "amount  - 0.0%\n",
      "nameOrig  - 0.0%\n",
      "oldbalanceOrg  - 0.0%\n",
      "newbalanceOrig  - 0.0%\n",
      "nameDest  - 0.0%\n",
      "oldbalanceDest  - 0.0%\n",
      "newbalanceDest  - 0.0%\n",
      "isFraud  - 0.0%\n",
      "isFlaggedFraud  - 0.0%\n"
     ]
    }
   ],
   "source": [
    "for col in df.columns: #shows missing values in the database goodnews theres none\n",
    "    missing = np.mean(df[col].isnull())\n",
    "    print('{}  - {}%'.format(col, missing))"
   ]
  },
  {
   "cell_type": "code",
   "execution_count": 9,
   "id": "92cff6e3",
   "metadata": {},
   "outputs": [
    {
     "data": {
      "image/png": "[encoded data removed]",
      "text/plain": [
       "<Figure size 864x576 with 9 Axes>"
      ]
     },
     "metadata": {
      "needs_background": "light"
     },
     "output_type": "display_data"
    }
   ],
   "source": [
    "df.hist(edgecolor='black', linewidth=1.2, figsize=(12,8)); #histograms for each column\n",
    "plt.show();"
   ]
  },
  {
   "cell_type": "code",
   "execution_count": 10,
   "id": "26a7b94d",
   "metadata": {},
   "outputs": [
    {
     "data": {
      "image/png": "[encoded data removed]",
      "text/plain": [
       "<Figure size 576x432 with 1 Axes>"
      ]
     },
     "metadata": {
      "needs_background": "light"
     },
     "output_type": "display_data"
    }
   ],
   "source": [
    "plt.figure(figsize=(8,6)) # transaction types counts in each of catagories, sliced by fraud and non fraud\n",
    "ax = sns.countplot(data=df,x='type',hue='isFraud')\n",
    "for i in range(len(ax.containers)):\n",
    "    ax.bar_label(ax.containers[i])\n",
    "plt.title('Type Vs isFraud')\n",
    "plt.show()"
   ]
  },
  {
   "cell_type": "code",
   "execution_count": 11,
   "id": "c0e99c8b",
   "metadata": {},
   "outputs": [
    {
     "data": {
      "text/plain": [
       "0    6354407\n",
       "1       8213\n",
       "Name: isFraud, dtype: int64"
      ]
     },
     "execution_count": 11,
     "metadata": {},
     "output_type": "execute_result"
    }
   ],
   "source": [
    "df['isFraud'].value_counts() # sum of all fraud and non-fraud in the database"
   ]
  },
  {
   "cell_type": "code",
   "execution_count": 12,
   "id": "382ea296",
   "metadata": {},
   "outputs": [
    {
     "data": {
      "image/png": "[encoded data removed]",
      "text/plain": [
       "<Figure size 864x576 with 1 Axes>"
      ]
     },
     "metadata": {
      "needs_background": "light"
     },
     "output_type": "display_data"
    }
   ],
   "source": [
    "plt.figure(figsize=(12,8)) # amount of transactions by step(time intervals), sliced by fraud and non-fraud\n",
    "\n",
    "plt.title(\"Amount by each transaction\")\n",
    "\n",
    "sns.scatterplot(data= df, x='step', y= 'amount', hue= \"isFraud\" );"
   ]
  },
  {
   "cell_type": "markdown",
   "id": "858a13d4",
   "metadata": {},
   "source": [
    "### From 6.3 million past transactions we have 8213 transactions that are fraud"
   ]
  },
  {
   "cell_type": "code",
   "execution_count": 16,
   "id": "5a040a81",
   "metadata": {},
   "outputs": [],
   "source": [
    "df.type = pd.Categorical(df.type) #changing categorical features to numbers to prepare for machine-learning model"
   ]
  },
  {
   "cell_type": "code",
   "execution_count": 17,
   "id": "473dffd1",
   "metadata": {},
   "outputs": [],
   "source": [
    "df['type'] = df.type.cat.codes"
   ]
  },
  {
   "cell_type": "code",
   "execution_count": 18,
   "id": "452473f9",
   "metadata": {},
   "outputs": [],
   "source": [
    "df.nameOrig = pd.Categorical(df.nameOrig)"
   ]
  },
  {
   "cell_type": "code",
   "execution_count": 19,
   "id": "cd723057",
   "metadata": {},
   "outputs": [],
   "source": [
    "df['nameOrig'] = df.nameOrig.cat.codes"
   ]
  },
  {
   "cell_type": "code",
   "execution_count": 20,
   "id": "0fdab6bf",
   "metadata": {},
   "outputs": [],
   "source": [
    "df.nameDest = pd.Categorical(df.nameDest)"
   ]
  },
  {
   "cell_type": "code",
   "execution_count": 21,
   "id": "65a105c7",
   "metadata": {},
   "outputs": [],
   "source": [
    "df['nameDest'] = df.nameDest.cat.codes"
   ]
  },
  {
   "cell_type": "code",
   "execution_count": 22,
   "id": "a4d8c94d",
   "metadata": {},
   "outputs": [
    {
     "name": "stdout",
     "output_type": "stream",
     "text": [
      "<class 'pandas.core.frame.DataFrame'>\n",
      "RangeIndex: 6362620 entries, 0 to 6362619\n",
      "Data columns (total 11 columns):\n",
      " #   Column          Dtype  \n",
      "---  ------          -----  \n",
      " 0   step            int64  \n",
      " 1   type            int8   \n",
      " 2   amount          float64\n",
      " 3   nameOrig        int32  \n",
      " 4   oldbalanceOrg   float64\n",
      " 5   newbalanceOrig  float64\n",
      " 6   nameDest        int32  \n",
      " 7   oldbalanceDest  float64\n",
      " 8   newbalanceDest  float64\n",
      " 9   isFraud         int64  \n",
      " 10  isFlaggedFraud  int64  \n",
      "dtypes: float64(5), int32(2), int64(3), int8(1)\n",
      "memory usage: 443.0 MB\n"
     ]
    }
   ],
   "source": [
    "df.info() # new data-types all numbers"
   ]
  },
  {
   "cell_type": "code",
   "execution_count": 23,
   "id": "062fecaa",
   "metadata": {},
   "outputs": [],
   "source": [
    "X = df.drop('isFraud', axis=1)# splitting the target (fraud-transaction) for training data and prediction\n",
    "y = df['isFraud']"
   ]
  },
  {
   "cell_type": "code",
   "execution_count": 24,
   "id": "3eb056bf",
   "metadata": {},
   "outputs": [
    {
     "data": {
      "text/html": [
       "<div>\n",
       "<style scoped>\n",
       "    .dataframe tbody tr th:only-of-type {\n",
       "        vertical-align: middle;\n",
       "    }\n",
       "\n",
       "    .dataframe tbody tr th {\n",
       "        vertical-align: top;\n",
       "    }\n",
       "\n",
       "    .dataframe thead th {\n",
       "        text-align: right;\n",
       "    }\n",
       "</style>\n",
       "<table border=\"1\" class=\"dataframe\">\n",
       "  <thead>\n",
       "    <tr style=\"text-align: right;\">\n",
       "      <th></th>\n",
       "      <th>step</th>\n",
       "      <th>type</th>\n",
       "      <th>amount</th>\n",
       "      <th>nameOrig</th>\n",
       "      <th>oldbalanceOrg</th>\n",
       "      <th>newbalanceOrig</th>\n",
       "      <th>nameDest</th>\n",
       "      <th>oldbalanceDest</th>\n",
       "      <th>newbalanceDest</th>\n",
       "      <th>isFlaggedFraud</th>\n",
       "    </tr>\n",
       "  </thead>\n",
       "  <tbody>\n",
       "    <tr>\n",
       "      <th>0</th>\n",
       "      <td>1</td>\n",
       "      <td>3</td>\n",
       "      <td>9839.64</td>\n",
       "      <td>757869</td>\n",
       "      <td>170136.0</td>\n",
       "      <td>160296.36</td>\n",
       "      <td>1662094</td>\n",
       "      <td>0.0</td>\n",
       "      <td>0.0</td>\n",
       "      <td>0</td>\n",
       "    </tr>\n",
       "    <tr>\n",
       "      <th>1</th>\n",
       "      <td>1</td>\n",
       "      <td>3</td>\n",
       "      <td>1864.28</td>\n",
       "      <td>2188998</td>\n",
       "      <td>21249.0</td>\n",
       "      <td>19384.72</td>\n",
       "      <td>1733924</td>\n",
       "      <td>0.0</td>\n",
       "      <td>0.0</td>\n",
       "      <td>0</td>\n",
       "    </tr>\n",
       "    <tr>\n",
       "      <th>2</th>\n",
       "      <td>1</td>\n",
       "      <td>4</td>\n",
       "      <td>181.00</td>\n",
       "      <td>1002156</td>\n",
       "      <td>181.0</td>\n",
       "      <td>0.00</td>\n",
       "      <td>439685</td>\n",
       "      <td>0.0</td>\n",
       "      <td>0.0</td>\n",
       "      <td>0</td>\n",
       "    </tr>\n",
       "    <tr>\n",
       "      <th>3</th>\n",
       "      <td>1</td>\n",
       "      <td>1</td>\n",
       "      <td>181.00</td>\n",
       "      <td>5828262</td>\n",
       "      <td>181.0</td>\n",
       "      <td>0.00</td>\n",
       "      <td>391696</td>\n",
       "      <td>21182.0</td>\n",
       "      <td>0.0</td>\n",
       "      <td>0</td>\n",
       "    </tr>\n",
       "    <tr>\n",
       "      <th>4</th>\n",
       "      <td>1</td>\n",
       "      <td>3</td>\n",
       "      <td>11668.14</td>\n",
       "      <td>3445981</td>\n",
       "      <td>41554.0</td>\n",
       "      <td>29885.86</td>\n",
       "      <td>828919</td>\n",
       "      <td>0.0</td>\n",
       "      <td>0.0</td>\n",
       "      <td>0</td>\n",
       "    </tr>\n",
       "  </tbody>\n",
       "</table>\n",
       "</div>"
      ],
      "text/plain": [
       "   step  type    amount  nameOrig  oldbalanceOrg  newbalanceOrig  nameDest  \\\n",
       "0     1     3   9839.64    757869       170136.0       160296.36   1662094   \n",
       "1     1     3   1864.28   2188998        21249.0        19384.72   1733924   \n",
       "2     1     4    181.00   1002156          181.0            0.00    439685   \n",
       "3     1     1    181.00   5828262          181.0            0.00    391696   \n",
       "4     1     3  11668.14   3445981        41554.0        29885.86    828919   \n",
       "\n",
       "   oldbalanceDest  newbalanceDest  isFlaggedFraud  \n",
       "0             0.0             0.0               0  \n",
       "1             0.0             0.0               0  \n",
       "2             0.0             0.0               0  \n",
       "3         21182.0             0.0               0  \n",
       "4             0.0             0.0               0  "
      ]
     },
     "execution_count": 24,
     "metadata": {},
     "output_type": "execute_result"
    }
   ],
   "source": [
    "X.head()"
   ]
  },
  {
   "cell_type": "code",
   "execution_count": 25,
   "id": "f517bb73",
   "metadata": {},
   "outputs": [],
   "source": [
    "X_train, X_test, y_train, y_test = train_test_split(X,y, test_size=0.3) # splitting data to training and testing sets"
   ]
  },
  {
   "cell_type": "code",
   "execution_count": 26,
   "id": "5ca37648",
   "metadata": {},
   "outputs": [
    {
     "data": {
      "text/html": [
       "<div>\n",
       "<style scoped>\n",
       "    .dataframe tbody tr th:only-of-type {\n",
       "        vertical-align: middle;\n",
       "    }\n",
       "\n",
       "    .dataframe tbody tr th {\n",
       "        vertical-align: top;\n",
       "    }\n",
       "\n",
       "    .dataframe thead th {\n",
       "        text-align: right;\n",
       "    }\n",
       "</style>\n",
       "<table border=\"1\" class=\"dataframe\">\n",
       "  <thead>\n",
       "    <tr style=\"text-align: right;\">\n",
       "      <th></th>\n",
       "      <th>step</th>\n",
       "      <th>type</th>\n",
       "      <th>amount</th>\n",
       "      <th>nameOrig</th>\n",
       "      <th>oldbalanceOrg</th>\n",
       "      <th>newbalanceOrig</th>\n",
       "      <th>nameDest</th>\n",
       "      <th>oldbalanceDest</th>\n",
       "      <th>newbalanceDest</th>\n",
       "      <th>isFlaggedFraud</th>\n",
       "    </tr>\n",
       "  </thead>\n",
       "  <tbody>\n",
       "    <tr>\n",
       "      <th>5651638</th>\n",
       "      <td>396</td>\n",
       "      <td>1</td>\n",
       "      <td>272555.55</td>\n",
       "      <td>774659</td>\n",
       "      <td>65972.0</td>\n",
       "      <td>0.00</td>\n",
       "      <td>503181</td>\n",
       "      <td>0.00</td>\n",
       "      <td>272555.55</td>\n",
       "      <td>0</td>\n",
       "    </tr>\n",
       "    <tr>\n",
       "      <th>2908869</th>\n",
       "      <td>228</td>\n",
       "      <td>0</td>\n",
       "      <td>299281.38</td>\n",
       "      <td>4366353</td>\n",
       "      <td>80858.0</td>\n",
       "      <td>380139.38</td>\n",
       "      <td>502816</td>\n",
       "      <td>4830.91</td>\n",
       "      <td>0.00</td>\n",
       "      <td>0</td>\n",
       "    </tr>\n",
       "    <tr>\n",
       "      <th>5822304</th>\n",
       "      <td>402</td>\n",
       "      <td>3</td>\n",
       "      <td>9049.44</td>\n",
       "      <td>4860305</td>\n",
       "      <td>16721.0</td>\n",
       "      <td>7671.56</td>\n",
       "      <td>1613264</td>\n",
       "      <td>0.00</td>\n",
       "      <td>0.00</td>\n",
       "      <td>0</td>\n",
       "    </tr>\n",
       "    <tr>\n",
       "      <th>1678813</th>\n",
       "      <td>159</td>\n",
       "      <td>1</td>\n",
       "      <td>102317.77</td>\n",
       "      <td>2503430</td>\n",
       "      <td>69809.0</td>\n",
       "      <td>0.00</td>\n",
       "      <td>547247</td>\n",
       "      <td>0.00</td>\n",
       "      <td>102317.77</td>\n",
       "      <td>0</td>\n",
       "    </tr>\n",
       "    <tr>\n",
       "      <th>5406448</th>\n",
       "      <td>377</td>\n",
       "      <td>3</td>\n",
       "      <td>10649.50</td>\n",
       "      <td>2465580</td>\n",
       "      <td>343.0</td>\n",
       "      <td>0.00</td>\n",
       "      <td>1404606</td>\n",
       "      <td>0.00</td>\n",
       "      <td>0.00</td>\n",
       "      <td>0</td>\n",
       "    </tr>\n",
       "  </tbody>\n",
       "</table>\n",
       "</div>"
      ],
      "text/plain": [
       "         step  type     amount  nameOrig  oldbalanceOrg  newbalanceOrig  \\\n",
       "5651638   396     1  272555.55    774659        65972.0            0.00   \n",
       "2908869   228     0  299281.38   4366353        80858.0       380139.38   \n",
       "5822304   402     3    9049.44   4860305        16721.0         7671.56   \n",
       "1678813   159     1  102317.77   2503430        69809.0            0.00   \n",
       "5406448   377     3   10649.50   2465580          343.0            0.00   \n",
       "\n",
       "         nameDest  oldbalanceDest  newbalanceDest  isFlaggedFraud  \n",
       "5651638    503181            0.00       272555.55               0  \n",
       "2908869    502816         4830.91            0.00               0  \n",
       "5822304   1613264            0.00            0.00               0  \n",
       "1678813    547247            0.00       102317.77               0  \n",
       "5406448   1404606            0.00            0.00               0  "
      ]
     },
     "execution_count": 26,
     "metadata": {},
     "output_type": "execute_result"
    }
   ],
   "source": [
    "X_train.head()"
   ]
  },
  {
   "cell_type": "markdown",
   "id": "5a63e8f1",
   "metadata": {},
   "source": [
    "### modeling"
   ]
  },
  {
   "cell_type": "code",
   "execution_count": 47,
   "id": "f3cd0c69",
   "metadata": {},
   "outputs": [
    {
     "name": "stdout",
     "output_type": "stream",
     "text": [
      "[22:28:14] WARNING: ..\\src\\learner.cc:1115: Starting in XGBoost 1.3.0, the default evaluation metric used with the objective 'binary:logistic' was changed from 'error' to 'logloss'. Explicitly set eval_metric if you'd like to restore the old behavior.\n",
      "CPU times: total: 38min 45s\n",
      "Wall time: 2min 6s\n"
     ]
    },
    {
     "data": {
      "text/plain": [
       "XGBRFClassifier(base_score=0.5, booster='gbtree', colsample_bylevel=1,\n",
       "                colsample_bytree=1, enable_categorical=False, gamma=0,\n",
       "                gpu_id=-1, importance_type=None, interaction_constraints='',\n",
       "                max_delta_step=0, max_depth=6, min_child_weight=1, missing=nan,\n",
       "                monotone_constraints='()', n_estimators=100, n_jobs=-1,\n",
       "                num_parallel_tree=100, objective='binary:logistic',\n",
       "                predictor='auto', random_state=0, reg_alpha=0,\n",
       "                scale_pos_weight=1, tree_method='approx', validate_parameters=1,\n",
       "                verbosity=None)"
      ]
     },
     "execution_count": 47,
     "metadata": {},
     "output_type": "execute_result"
    }
   ],
   "source": [
    "%%time \n",
    "np.random.seed(0)\n",
    "\n",
    "clf = XGBRFClassifier(n_jobs=-1)\n",
    "clf.fit(X_train,y_train);"
   ]
  },
  {
   "cell_type": "code",
   "execution_count": 48,
   "id": "b1adf428",
   "metadata": {},
   "outputs": [
    {
     "name": "stdout",
     "output_type": "stream",
     "text": [
      "              precision    recall  f1-score   support\n",
      "\n",
      "           0       1.00      1.00      1.00   1906279\n",
      "           1       0.98      0.66      0.79      2507\n",
      "\n",
      "    accuracy                           1.00   1908786\n",
      "   macro avg       0.99      0.83      0.89   1908786\n",
      "weighted avg       1.00      1.00      1.00   1908786\n",
      "\n"
     ]
    }
   ],
   "source": [
    "test_preds = clf.predict(X_test)\n",
    "print(classification_report(y_test,test_preds))"
   ]
  },
  {
   "cell_type": "code",
   "execution_count": 106,
   "id": "ca9661ff",
   "metadata": {},
   "outputs": [
    {
     "name": "stdout",
     "output_type": "stream",
     "text": [
      "              precision    recall  f1-score   support\n",
      "\n",
      "           0       1.00      1.00      1.00   1906288\n",
      "           1       0.99      0.77      0.86      2498\n",
      "\n",
      "    accuracy                           1.00   1908786\n",
      "   macro avg       0.99      0.89      0.93   1908786\n",
      "weighted avg       1.00      1.00      1.00   1908786\n",
      "\n",
      "CPU times: total: 48min 8s\n",
      "Wall time: 2min 20s\n"
     ]
    }
   ],
   "source": [
    "%%time\n",
    "clf_rf = RandomForestClassifier(n_jobs=-1, random_state=0)\n",
    "\n",
    "clf_rf.fit(X_train,y_train)\n",
    "rf_preds = clf_rf.predict(X_test)\n",
    "print(classification_report(y_test,test_preds))"
   ]
  },
  {
   "cell_type": "code",
   "execution_count": 30,
   "id": "a8a0580b",
   "metadata": {},
   "outputs": [
    {
     "name": "stdout",
     "output_type": "stream",
     "text": [
      "              precision    recall  f1-score   support\n",
      "\n",
      "           0       1.00      1.00      1.00   1906288\n",
      "           1       1.00      0.70      0.82      2498\n",
      "\n",
      "    accuracy                           1.00   1908786\n",
      "   macro avg       1.00      0.85      0.91   1908786\n",
      "weighted avg       1.00      1.00      1.00   1908786\n",
      "\n",
      "CPU times: total: 31min 17s\n",
      "Wall time: 1min 30s\n"
     ]
    }
   ],
   "source": [
    "%%time\n",
    "clf_etc = ExtraTreesClassifier(n_jobs=-1,random_state=0)\n",
    "\n",
    "clf_etc.fit(X_train,y_train)\n",
    "clf_etc_preds = clf_etc.predict(X_test)\n",
    "print(classification_report(y_test,clf_etc_preds))"
   ]
  },
  {
   "cell_type": "code",
   "execution_count": 31,
   "id": "fe648e29",
   "metadata": {},
   "outputs": [
    {
     "name": "stdout",
     "output_type": "stream",
     "text": [
      "[0.08173118 0.05949123 0.14574441 0.02507174 0.2553667  0.03385332\n",
      " 0.02593339 0.06673607 0.30535279 0.00071915]\n"
     ]
    },
    {
     "data": {
      "text/plain": [
       "array([0.1315944 , 0.03107466, 0.18235357, 0.04495537, 0.27973929,\n",
       "       0.05782659, 0.04676774, 0.05913688, 0.16480843, 0.00174306])"
      ]
     },
     "execution_count": 31,
     "metadata": {},
     "output_type": "execute_result"
    }
   ],
   "source": [
    "print(clf_rf.feature_importances_),\n",
    "clf_etc.feature_importances_"
   ]
  },
  {
   "cell_type": "code",
   "execution_count": 40,
   "id": "f966f931",
   "metadata": {},
   "outputs": [
    {
     "data": {
      "image/png": "[encoded data removed]",
      "text/plain": [
       "<Figure size 432x288 with 1 Axes>"
      ]
     },
     "metadata": {
      "needs_background": "light"
     },
     "output_type": "display_data"
    }
   ],
   "source": [
    "plt.bar(range(len(clf_rf.feature_importances_)), clf_rf.feature_importances_); # feature importance detected by the model"
   ]
  },
  {
   "cell_type": "markdown",
   "id": "43f595ea",
   "metadata": {},
   "source": [
    "## the newbalanceDest, newbalanceORG is the most important features as the model has learned because fraud transactions usually empty balance and cash everything out"
   ]
  },
  {
   "cell_type": "code",
   "execution_count": 105,
   "id": "425bd8bc",
   "metadata": {},
   "outputs": [
    {
     "name": "stdout",
     "output_type": "stream",
     "text": [
      "              precision    recall  f1-score   support\n",
      "\n",
      "           0       1.00      1.00      1.00   1906288\n",
      "           1       0.81      0.44      0.57      2498\n",
      "\n",
      "    accuracy                           1.00   1908786\n",
      "   macro avg       0.91      0.72      0.78   1908786\n",
      "weighted avg       1.00      1.00      1.00   1908786\n",
      "\n",
      "CPU times: total: 1.52 s\n",
      "Wall time: 53 s\n"
     ]
    }
   ],
   "source": [
    "%%time\n",
    "clf_lr = LogisticRegression(n_jobs=-1,random_state=0)\n",
    "\n",
    "clf_lr.fit(X_train,y_train)\n",
    "clf_lr_preds = clf_lr.predict(X_test)\n",
    "print(classification_report(y_test,clf_lr_preds))"
   ]
  },
  {
   "cell_type": "code",
   "execution_count": 55,
   "id": "1c9e460e",
   "metadata": {},
   "outputs": [
    {
     "name": "stdout",
     "output_type": "stream",
     "text": [
      "              precision    recall  f1-score   support\n",
      "\n",
      "           0       1.00      1.00      1.00   1906279\n",
      "           1       0.92      0.60      0.73      2507\n",
      "\n",
      "    accuracy                           1.00   1908786\n",
      "   macro avg       0.96      0.80      0.86   1908786\n",
      "weighted avg       1.00      1.00      1.00   1908786\n",
      "\n",
      "CPU times: total: 4min 31s\n",
      "Wall time: 4min 39s\n"
     ]
    }
   ],
   "source": [
    "%%time\n",
    "clf_ada = AdaBoostClassifier(random_state=0)\n",
    "\n",
    "clf_ada.fit(X_train,y_train)\n",
    "clf_ada_preds = clf_ada.predict(X_test)\n",
    "print(classification_report(y_test,clf_ada_preds))"
   ]
  },
  {
   "cell_type": "code",
   "execution_count": 56,
   "id": "53b97424",
   "metadata": {},
   "outputs": [
    {
     "name": "stdout",
     "output_type": "stream",
     "text": [
      "              precision    recall  f1-score   support\n",
      "\n",
      "           0       1.00      1.00      1.00   1906279\n",
      "           1       0.73      0.56      0.63      2507\n",
      "\n",
      "    accuracy                           1.00   1908786\n",
      "   macro avg       0.87      0.78      0.82   1908786\n",
      "weighted avg       1.00      1.00      1.00   1908786\n",
      "\n",
      "CPU times: total: 28.5 s\n",
      "Wall time: 29.5 s\n"
     ]
    }
   ],
   "source": [
    "%%time\n",
    "clf_sgd = SGDClassifier(n_jobs=-1, random_state=0)\n",
    "\n",
    "clf_sgd.fit(X_train,y_train)\n",
    "clf_sgd_preds = clf_sgd.predict(X_test)\n",
    "print(classification_report(y_test,clf_sgd_preds))"
   ]
  },
  {
   "cell_type": "code",
   "execution_count": 57,
   "id": "19725596",
   "metadata": {},
   "outputs": [
    {
     "data": {
      "image/png": "[encoded data removed]",
      "text/plain": [
       "<Figure size 432x288 with 1 Axes>"
      ]
     },
     "metadata": {
      "needs_background": "light"
     },
     "output_type": "display_data"
    }
   ],
   "source": [
    "from sklearn.metrics import PrecisionRecallDisplay # visualising model training performance\n",
    "\n",
    "PrecisionRecallDisplay.from_estimator(clf_rf, X_test, y_test);"
   ]
  },
  {
   "cell_type": "code",
   "execution_count": 81,
   "id": "44ca2823",
   "metadata": {},
   "outputs": [],
   "source": [
    "GRID = {\"n_estimators\": [120,100,80,40]}"
   ]
  },
  {
   "cell_type": "code",
   "execution_count": 82,
   "id": "bee132f2",
   "metadata": {},
   "outputs": [
    {
     "name": "stdout",
     "output_type": "stream",
     "text": [
      "Fitting 5 folds for each of 4 candidates, totalling 20 fits\n",
      "[CV 1/5] END ..................n_estimators=120;, score=0.792 total time= 2.1min\n",
      "[CV 2/5] END ..................n_estimators=120;, score=0.773 total time= 2.1min\n",
      "[CV 3/5] END ..................n_estimators=120;, score=0.767 total time= 2.0min\n",
      "[CV 4/5] END ..................n_estimators=120;, score=0.768 total time= 2.1min\n",
      "[CV 5/5] END ..................n_estimators=120;, score=0.755 total time= 2.1min\n",
      "[CV 1/5] END ..................n_estimators=100;, score=0.789 total time= 1.7min\n",
      "[CV 2/5] END ..................n_estimators=100;, score=0.771 total time= 1.8min\n",
      "[CV 3/5] END ..................n_estimators=100;, score=0.767 total time= 1.8min\n",
      "[CV 4/5] END ..................n_estimators=100;, score=0.770 total time= 1.8min\n",
      "[CV 5/5] END ..................n_estimators=100;, score=0.757 total time= 1.8min\n",
      "[CV 1/5] END ...................n_estimators=80;, score=0.791 total time= 1.5min\n",
      "[CV 2/5] END ...................n_estimators=80;, score=0.771 total time= 1.5min\n",
      "[CV 3/5] END ...................n_estimators=80;, score=0.767 total time= 1.4min\n",
      "[CV 4/5] END ...................n_estimators=80;, score=0.768 total time= 1.4min\n",
      "[CV 5/5] END ...................n_estimators=80;, score=0.755 total time= 1.5min\n",
      "[CV 1/5] END ...................n_estimators=40;, score=0.787 total time=  42.6s\n",
      "[CV 2/5] END ...................n_estimators=40;, score=0.773 total time=  45.0s\n",
      "[CV 3/5] END ...................n_estimators=40;, score=0.766 total time=  44.2s\n",
      "[CV 4/5] END ...................n_estimators=40;, score=0.766 total time=  44.7s\n",
      "[CV 5/5] END ...................n_estimators=40;, score=0.749 total time=  43.8s\n",
      "CPU times: total: 59min 10s\n",
      "Wall time: 32min 48s\n"
     ]
    },
    {
     "data": {
      "text/plain": [
       "GridSearchCV(cv=5, estimator=RandomForestClassifier(n_jobs=-1, random_state=0),\n",
       "             param_grid={'n_estimators': [120, 100, 80, 40]}, scoring='recall',\n",
       "             verbose=3)"
      ]
     },
     "execution_count": 82,
     "metadata": {},
     "output_type": "execute_result"
    }
   ],
   "source": [
    "%%time\n",
    "clf_rf_gs = GridSearchCV(clf_rf, GRID, scoring='recall', cv=5, verbose=3)\n",
    "\n",
    "clf_rf_gs.fit(X_train,y_train)"
   ]
  },
  {
   "cell_type": "code",
   "execution_count": 83,
   "id": "77bf0f34",
   "metadata": {},
   "outputs": [
    {
     "data": {
      "text/plain": [
       "{'n_estimators': 120}"
      ]
     },
     "execution_count": 83,
     "metadata": {},
     "output_type": "execute_result"
    }
   ],
   "source": [
    "clf_rf_gs.best_params_"
   ]
  },
  {
   "cell_type": "code",
   "execution_count": 144,
   "id": "7ec9e55d",
   "metadata": {},
   "outputs": [
    {
     "data": {
      "text/plain": [
       "array([[1905580,     708],\n",
       "       [    216,    2282]], dtype=int64)"
      ]
     },
     "execution_count": 144,
     "metadata": {},
     "output_type": "execute_result"
    }
   ],
   "source": [
    "THRESHOLD = 0.1\n",
    "y_pred = (clf_rf_gs.predict_proba(X_test)[:,1] > THRESHOLD).astype('float')\n",
    "cm = confusion_matrix(y_test, y_pred)\n",
    "cm"
   ]
  },
  {
   "cell_type": "code",
   "execution_count": 132,
   "id": "9f9889d4",
   "metadata": {},
   "outputs": [
    {
     "data": {
      "image/png": "[encoded data removed]",
      "text/plain": [
       "<Figure size 432x288 with 2 Axes>"
      ]
     },
     "metadata": {
      "needs_background": "light"
     },
     "output_type": "display_data"
    }
   ],
   "source": [
    "sns.heatmap(cm/np.sum(cm), annot=True,\n",
    "           fmt='.2%');"
   ]
  },
  {
   "cell_type": "code",
   "execution_count": 133,
   "id": "b2988ee9",
   "metadata": {},
   "outputs": [
    {
     "data": {
      "image/png": "[encoded data removed]",
      "text/plain": [
       "<Figure size 432x288 with 2 Axes>"
      ]
     },
     "metadata": {
      "needs_background": "light"
     },
     "output_type": "display_data"
    }
   ],
   "source": [
    "labels = ['true neg', 'false pos', 'false neg', 'true pos']\n",
    "labels = np.asarray(labels).reshape(2,2)\n",
    "sns.heatmap(cm/np.sum(cm), annot=labels,\n",
    "           fmt='');"
   ]
  },
  {
   "cell_type": "code",
   "execution_count": 143,
   "id": "5d901455",
   "metadata": {},
   "outputs": [
    {
     "name": "stdout",
     "output_type": "stream",
     "text": [
      "model performance: 0.91\n"
     ]
    }
   ],
   "source": [
    "recall = recall_score(y_test, y_pred, average='binary')\n",
    "print('model performance: %.2f' % recall)"
   ]
  },
  {
   "cell_type": "markdown",
   "id": "972fcfdc",
   "metadata": {},
   "source": [
    "## building pipeline"
   ]
  },
  {
   "cell_type": "code",
   "execution_count": null,
   "id": "2636e9ca",
   "metadata": {},
   "outputs": [],
   "source": [
    "categorical_features = [\"type\", \"nameOrig\", \"nameDest\"]\n",
    "categorical_transformer = OneHotEncoder(handle_unknown=\"ignore\")\n",
    "col_to_scale = ['step','amount','oldbalanceOrg','newbalanceOrig','oldbalanceDest','newbalanceDest']\n",
    "X_train, X_test, y_train, y_test = train_test_split(X, y, test_size=0.3, random_state=0)\n",
    "preprocessor = ColumnTransformer(\n",
    "    transformers=[\n",
    "        (\"cat\", categorical_transformer, categorical_features)\n",
    "         \n",
    "    ])\n",
    "scaler = MinMaxScaler().fit(X_train[col_to_scale])\n",
    "\n",
    "X_train[col_to_scale] = scaler.transform(X_train[col_to_scale])\n",
    "X_test[col_to_scale] = scaler.transform(X_test[col_to_scale])\n",
    "\n",
    "\n",
    "clf = Pipeline(\n",
    "    steps=[(\"preprocessor\", preprocessor),\n",
    "           (\"model\", RandomForestClassifier(n_estimators=120, n_jobs=-1))])\n",
    "clf.fit(X_train, y_train)\n",
    "print(\"model score: %.3f\" % clf.score(X_test, y_test))"
   ]
  },
  {
   "cell_type": "markdown",
   "id": "6ec93ddf",
   "metadata": {},
   "source": [
    "### exporting trained model"
   ]
  },
  {
   "cell_type": "code",
   "execution_count": 201,
   "id": "3adda06e",
   "metadata": {},
   "outputs": [],
   "source": [
    "import pickle\n",
    "pickle.dump(clf, open(\"random_forest_model.pkl\", \"wb\"))"
   ]
  },
  {
   "cell_type": "code",
   "execution_count": 28,
   "id": "947605f6",
   "metadata": {},
   "outputs": [],
   "source": [
    "loaded_pickle_model = pickle.load(open('random_forest_model.pkl', \"rb\"))"
   ]
  },
  {
   "cell_type": "code",
   "execution_count": 30,
   "id": "40590f03",
   "metadata": {},
   "outputs": [],
   "source": [
    "pickle_y_preds = loaded_pickle_model.predict(X_test)"
   ]
  },
  {
   "cell_type": "code",
   "execution_count": 34,
   "id": "fc191c79",
   "metadata": {},
   "outputs": [
    {
     "name": "stdout",
     "output_type": "stream",
     "text": [
      "model performance: 0.70\n"
     ]
    }
   ],
   "source": [
    "recall = recall_score(y_test, pickle_y_preds, average='binary')\n",
    "print('model performance: %.2f' % recall)"
   ]
  },
  {
   "cell_type": "markdown",
   "id": "ebb01e39",
   "metadata": {},
   "source": [
    "## Resault\n",
    "* More improvemts can be done on the model\n",
    "** model is built on preventive measure, model can be relaxed for robust speed and still yield good performance\n",
    "*** set up authentication step for activity that model is 10% confident is suspecious \n",
    "**** implementation can discourage Fraudelent transaction and might see attemps fall"
   ]
  }
 ],
 "metadata": {
  "kernelspec": {
   "display_name": "Python 3 (ipykernel)",
   "language": "python",
   "name": "python3"
  },
  "language_info": {
   "codemirror_mode": {
    "name": "ipython",
    "version": 3
   },
   "file_extension": ".py",
   "mimetype": "text/x-python",
   "name": "python",
   "nbconvert_exporter": "python",
   "pygments_lexer": "ipython3",
   "version": "3.9.12"
  }
 },
 "nbformat": 4,
 "nbformat_minor": 5
}
