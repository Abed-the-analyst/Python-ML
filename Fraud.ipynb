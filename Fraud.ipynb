{
 "cells": [
  {
   "cell_type": "code",
   "execution_count": 1,
   "id": "8fc53047",
   "metadata": {},
   "outputs": [
    {
     "name": "stdout",
     "output_type": "stream",
     "text": [
      "<module 'numpy' from 'E:\\\\anaconda3\\\\envs\\\\MachineLearning\\\\lib\\\\site-packages\\\\numpy\\\\__init__.py'> 1.22.3\n",
      "<module 'pandas' from 'E:\\\\anaconda3\\\\envs\\\\MachineLearning\\\\lib\\\\site-packages\\\\pandas\\\\__init__.py'> 1.4.2\n",
      "<module 'seaborn' from 'E:\\\\anaconda3\\\\envs\\\\MachineLearning\\\\lib\\\\site-packages\\\\seaborn\\\\__init__.py'> 0.11.2\n"
     ]
    },
    {
     "name": "stderr",
     "output_type": "stream",
     "text": [
      "E:\\anaconda3\\envs\\MachineLearning\\lib\\site-packages\\xgboost\\compat.py:36: FutureWarning: pandas.Int64Index is deprecated and will be removed from pandas in a future version. Use pandas.Index with the appropriate dtype instead.\n",
      "  from pandas import MultiIndex, Int64Index\n"
     ]
    }
   ],
   "source": [
    "import numpy as np\n",
    "import pandas as pd\n",
    "import matplotlib.pyplot as plt\n",
    "import seaborn as sns\n",
    "from sklearn import preprocessing\n",
    "\n",
    "from sklearn.model_selection import train_test_split, cross_val_score\n",
    "from sklearn.model_selection import RandomizedSearchCV, GridSearchCV, KFold\n",
    "from sklearn.metrics import accuracy_score, recall_score, confusion_matrix, roc_curve, classification_report\n",
    "from sklearn.ensemble import AdaBoostClassifier, RandomForestClassifier, ExtraTreesClassifier\n",
    "from sklearn.linear_model import LogisticRegression, SGDClassifier\n",
    "from sklearn.svm import LinearSVC\n",
    "from xgboost import XGBRFClassifier\n",
    "\n",
    "print(f'{np}',np.__version__)\n",
    "print(f'{pd}',pd.__version__)\n",
    "print(f'{sns}',sns.__version__)"
   ]
  },
  {
   "cell_type": "markdown",
   "id": "f4b2f2b0",
   "metadata": {},
   "source": [
    "#### Data source: https://www.kaggle.com/datasets/vardhansiramdasu/fraudulent-transactions-prediction"
   ]
  },
  {
   "cell_type": "code",
   "execution_count": 2,
   "id": "f3f0bf7f",
   "metadata": {},
   "outputs": [
    {
     "data": {
      "text/plain": [
       "(6362620, 11)"
      ]
     },
     "execution_count": 2,
     "metadata": {},
     "output_type": "execute_result"
    }
   ],
   "source": [
    "# read the data\n",
    "df = pd.read_csv(r'C:\\Users\\abedw\\DataBases\\Fraud.csv') # 470MB of data\n",
    "df.shape"
   ]
  },
  {
   "cell_type": "code",
   "execution_count": 3,
   "id": "2cce796f",
   "metadata": {},
   "outputs": [
    {
     "data": {
      "text/html": [
       "<div>\n",
       "<style scoped>\n",
       "    .dataframe tbody tr th:only-of-type {\n",
       "        vertical-align: middle;\n",
       "    }\n",
       "\n",
       "    .dataframe tbody tr th {\n",
       "        vertical-align: top;\n",
       "    }\n",
       "\n",
       "    .dataframe thead th {\n",
       "        text-align: right;\n",
       "    }\n",
       "</style>\n",
       "<table border=\"1\" class=\"dataframe\">\n",
       "  <thead>\n",
       "    <tr style=\"text-align: right;\">\n",
       "      <th></th>\n",
       "      <th>step</th>\n",
       "      <th>type</th>\n",
       "      <th>amount</th>\n",
       "      <th>nameOrig</th>\n",
       "      <th>oldbalanceOrg</th>\n",
       "      <th>newbalanceOrig</th>\n",
       "      <th>nameDest</th>\n",
       "      <th>oldbalanceDest</th>\n",
       "      <th>newbalanceDest</th>\n",
       "      <th>isFraud</th>\n",
       "      <th>isFlaggedFraud</th>\n",
       "    </tr>\n",
       "  </thead>\n",
       "  <tbody>\n",
       "    <tr>\n",
       "      <th>0</th>\n",
       "      <td>1</td>\n",
       "      <td>PAYMENT</td>\n",
       "      <td>9839.64</td>\n",
       "      <td>C1231006815</td>\n",
       "      <td>170136.0</td>\n",
       "      <td>160296.36</td>\n",
       "      <td>M1979787155</td>\n",
       "      <td>0.0</td>\n",
       "      <td>0.0</td>\n",
       "      <td>0</td>\n",
       "      <td>0</td>\n",
       "    </tr>\n",
       "    <tr>\n",
       "      <th>1</th>\n",
       "      <td>1</td>\n",
       "      <td>PAYMENT</td>\n",
       "      <td>1864.28</td>\n",
       "      <td>C1666544295</td>\n",
       "      <td>21249.0</td>\n",
       "      <td>19384.72</td>\n",
       "      <td>M2044282225</td>\n",
       "      <td>0.0</td>\n",
       "      <td>0.0</td>\n",
       "      <td>0</td>\n",
       "      <td>0</td>\n",
       "    </tr>\n",
       "    <tr>\n",
       "      <th>2</th>\n",
       "      <td>1</td>\n",
       "      <td>TRANSFER</td>\n",
       "      <td>181.00</td>\n",
       "      <td>C1305486145</td>\n",
       "      <td>181.0</td>\n",
       "      <td>0.00</td>\n",
       "      <td>C553264065</td>\n",
       "      <td>0.0</td>\n",
       "      <td>0.0</td>\n",
       "      <td>1</td>\n",
       "      <td>0</td>\n",
       "    </tr>\n",
       "    <tr>\n",
       "      <th>3</th>\n",
       "      <td>1</td>\n",
       "      <td>CASH_OUT</td>\n",
       "      <td>181.00</td>\n",
       "      <td>C840083671</td>\n",
       "      <td>181.0</td>\n",
       "      <td>0.00</td>\n",
       "      <td>C38997010</td>\n",
       "      <td>21182.0</td>\n",
       "      <td>0.0</td>\n",
       "      <td>1</td>\n",
       "      <td>0</td>\n",
       "    </tr>\n",
       "    <tr>\n",
       "      <th>4</th>\n",
       "      <td>1</td>\n",
       "      <td>PAYMENT</td>\n",
       "      <td>11668.14</td>\n",
       "      <td>C2048537720</td>\n",
       "      <td>41554.0</td>\n",
       "      <td>29885.86</td>\n",
       "      <td>M1230701703</td>\n",
       "      <td>0.0</td>\n",
       "      <td>0.0</td>\n",
       "      <td>0</td>\n",
       "      <td>0</td>\n",
       "    </tr>\n",
       "  </tbody>\n",
       "</table>\n",
       "</div>"
      ],
      "text/plain": [
       "   step      type    amount     nameOrig  oldbalanceOrg  newbalanceOrig  \\\n",
       "0     1   PAYMENT   9839.64  C1231006815       170136.0       160296.36   \n",
       "1     1   PAYMENT   1864.28  C1666544295        21249.0        19384.72   \n",
       "2     1  TRANSFER    181.00  C1305486145          181.0            0.00   \n",
       "3     1  CASH_OUT    181.00   C840083671          181.0            0.00   \n",
       "4     1   PAYMENT  11668.14  C2048537720        41554.0        29885.86   \n",
       "\n",
       "      nameDest  oldbalanceDest  newbalanceDest  isFraud  isFlaggedFraud  \n",
       "0  M1979787155             0.0             0.0        0               0  \n",
       "1  M2044282225             0.0             0.0        0               0  \n",
       "2   C553264065             0.0             0.0        1               0  \n",
       "3    C38997010         21182.0             0.0        1               0  \n",
       "4  M1230701703             0.0             0.0        0               0  "
      ]
     },
     "execution_count": 3,
     "metadata": {},
     "output_type": "execute_result"
    }
   ],
   "source": [
    "df.head()"
   ]
  },
  {
   "cell_type": "code",
   "execution_count": 4,
   "id": "ffb02f03",
   "metadata": {},
   "outputs": [
    {
     "data": {
      "text/html": [
       "<div>\n",
       "<style scoped>\n",
       "    .dataframe tbody tr th:only-of-type {\n",
       "        vertical-align: middle;\n",
       "    }\n",
       "\n",
       "    .dataframe tbody tr th {\n",
       "        vertical-align: top;\n",
       "    }\n",
       "\n",
       "    .dataframe thead th {\n",
       "        text-align: right;\n",
       "    }\n",
       "</style>\n",
       "<table border=\"1\" class=\"dataframe\">\n",
       "  <thead>\n",
       "    <tr style=\"text-align: right;\">\n",
       "      <th></th>\n",
       "      <th>step</th>\n",
       "      <th>amount</th>\n",
       "      <th>oldbalanceOrg</th>\n",
       "      <th>newbalanceOrig</th>\n",
       "      <th>oldbalanceDest</th>\n",
       "      <th>newbalanceDest</th>\n",
       "      <th>isFraud</th>\n",
       "      <th>isFlaggedFraud</th>\n",
       "    </tr>\n",
       "  </thead>\n",
       "  <tbody>\n",
       "    <tr>\n",
       "      <th>count</th>\n",
       "      <td>6.362620e+06</td>\n",
       "      <td>6.362620e+06</td>\n",
       "      <td>6.362620e+06</td>\n",
       "      <td>6.362620e+06</td>\n",
       "      <td>6.362620e+06</td>\n",
       "      <td>6.362620e+06</td>\n",
       "      <td>6.362620e+06</td>\n",
       "      <td>6.362620e+06</td>\n",
       "    </tr>\n",
       "    <tr>\n",
       "      <th>mean</th>\n",
       "      <td>2.433972e+02</td>\n",
       "      <td>1.798619e+05</td>\n",
       "      <td>8.338831e+05</td>\n",
       "      <td>8.551137e+05</td>\n",
       "      <td>1.100702e+06</td>\n",
       "      <td>1.224996e+06</td>\n",
       "      <td>1.290820e-03</td>\n",
       "      <td>2.514687e-06</td>\n",
       "    </tr>\n",
       "    <tr>\n",
       "      <th>std</th>\n",
       "      <td>1.423320e+02</td>\n",
       "      <td>6.038582e+05</td>\n",
       "      <td>2.888243e+06</td>\n",
       "      <td>2.924049e+06</td>\n",
       "      <td>3.399180e+06</td>\n",
       "      <td>3.674129e+06</td>\n",
       "      <td>3.590480e-02</td>\n",
       "      <td>1.585775e-03</td>\n",
       "    </tr>\n",
       "    <tr>\n",
       "      <th>min</th>\n",
       "      <td>1.000000e+00</td>\n",
       "      <td>0.000000e+00</td>\n",
       "      <td>0.000000e+00</td>\n",
       "      <td>0.000000e+00</td>\n",
       "      <td>0.000000e+00</td>\n",
       "      <td>0.000000e+00</td>\n",
       "      <td>0.000000e+00</td>\n",
       "      <td>0.000000e+00</td>\n",
       "    </tr>\n",
       "    <tr>\n",
       "      <th>25%</th>\n",
       "      <td>1.560000e+02</td>\n",
       "      <td>1.338957e+04</td>\n",
       "      <td>0.000000e+00</td>\n",
       "      <td>0.000000e+00</td>\n",
       "      <td>0.000000e+00</td>\n",
       "      <td>0.000000e+00</td>\n",
       "      <td>0.000000e+00</td>\n",
       "      <td>0.000000e+00</td>\n",
       "    </tr>\n",
       "    <tr>\n",
       "      <th>50%</th>\n",
       "      <td>2.390000e+02</td>\n",
       "      <td>7.487194e+04</td>\n",
       "      <td>1.420800e+04</td>\n",
       "      <td>0.000000e+00</td>\n",
       "      <td>1.327057e+05</td>\n",
       "      <td>2.146614e+05</td>\n",
       "      <td>0.000000e+00</td>\n",
       "      <td>0.000000e+00</td>\n",
       "    </tr>\n",
       "    <tr>\n",
       "      <th>75%</th>\n",
       "      <td>3.350000e+02</td>\n",
       "      <td>2.087215e+05</td>\n",
       "      <td>1.073152e+05</td>\n",
       "      <td>1.442584e+05</td>\n",
       "      <td>9.430367e+05</td>\n",
       "      <td>1.111909e+06</td>\n",
       "      <td>0.000000e+00</td>\n",
       "      <td>0.000000e+00</td>\n",
       "    </tr>\n",
       "    <tr>\n",
       "      <th>max</th>\n",
       "      <td>7.430000e+02</td>\n",
       "      <td>9.244552e+07</td>\n",
       "      <td>5.958504e+07</td>\n",
       "      <td>4.958504e+07</td>\n",
       "      <td>3.560159e+08</td>\n",
       "      <td>3.561793e+08</td>\n",
       "      <td>1.000000e+00</td>\n",
       "      <td>1.000000e+00</td>\n",
       "    </tr>\n",
       "  </tbody>\n",
       "</table>\n",
       "</div>"
      ],
      "text/plain": [
       "               step        amount  oldbalanceOrg  newbalanceOrig  \\\n",
       "count  6.362620e+06  6.362620e+06   6.362620e+06    6.362620e+06   \n",
       "mean   2.433972e+02  1.798619e+05   8.338831e+05    8.551137e+05   \n",
       "std    1.423320e+02  6.038582e+05   2.888243e+06    2.924049e+06   \n",
       "min    1.000000e+00  0.000000e+00   0.000000e+00    0.000000e+00   \n",
       "25%    1.560000e+02  1.338957e+04   0.000000e+00    0.000000e+00   \n",
       "50%    2.390000e+02  7.487194e+04   1.420800e+04    0.000000e+00   \n",
       "75%    3.350000e+02  2.087215e+05   1.073152e+05    1.442584e+05   \n",
       "max    7.430000e+02  9.244552e+07   5.958504e+07    4.958504e+07   \n",
       "\n",
       "       oldbalanceDest  newbalanceDest       isFraud  isFlaggedFraud  \n",
       "count    6.362620e+06    6.362620e+06  6.362620e+06    6.362620e+06  \n",
       "mean     1.100702e+06    1.224996e+06  1.290820e-03    2.514687e-06  \n",
       "std      3.399180e+06    3.674129e+06  3.590480e-02    1.585775e-03  \n",
       "min      0.000000e+00    0.000000e+00  0.000000e+00    0.000000e+00  \n",
       "25%      0.000000e+00    0.000000e+00  0.000000e+00    0.000000e+00  \n",
       "50%      1.327057e+05    2.146614e+05  0.000000e+00    0.000000e+00  \n",
       "75%      9.430367e+05    1.111909e+06  0.000000e+00    0.000000e+00  \n",
       "max      3.560159e+08    3.561793e+08  1.000000e+00    1.000000e+00  "
      ]
     },
     "execution_count": 4,
     "metadata": {},
     "output_type": "execute_result"
    }
   ],
   "source": [
    "#np.set_printoptions(edgeitems=3)\n",
    "df.describe()"
   ]
  },
  {
   "cell_type": "code",
   "execution_count": 5,
   "id": "e7cf26f5",
   "metadata": {},
   "outputs": [
    {
     "data": {
      "text/plain": [
       "step                int64\n",
       "type               object\n",
       "amount            float64\n",
       "nameOrig           object\n",
       "oldbalanceOrg     float64\n",
       "newbalanceOrig    float64\n",
       "nameDest           object\n",
       "oldbalanceDest    float64\n",
       "newbalanceDest    float64\n",
       "isFraud             int64\n",
       "isFlaggedFraud      int64\n",
       "dtype: object"
      ]
     },
     "execution_count": 5,
     "metadata": {},
     "output_type": "execute_result"
    }
   ],
   "source": [
    "df.dtypes"
   ]
  },
  {
   "cell_type": "code",
   "execution_count": 6,
   "id": "60a9abeb",
   "metadata": {},
   "outputs": [
    {
     "data": {
      "text/plain": [
       "CASH_OUT    2237500\n",
       "PAYMENT     2151495\n",
       "CASH_IN     1399284\n",
       "TRANSFER     532909\n",
       "DEBIT         41432\n",
       "Name: type, dtype: int64"
      ]
     },
     "execution_count": 6,
     "metadata": {},
     "output_type": "execute_result"
    }
   ],
   "source": [
    "df['type'].value_counts()"
   ]
  },
  {
   "cell_type": "code",
   "execution_count": 7,
   "id": "3a1c0666",
   "metadata": {},
   "outputs": [
    {
     "name": "stdout",
     "output_type": "stream",
     "text": [
      "step  - 0.0%\n",
      "type  - 0.0%\n",
      "amount  - 0.0%\n",
      "nameOrig  - 0.0%\n",
      "oldbalanceOrg  - 0.0%\n",
      "newbalanceOrig  - 0.0%\n",
      "nameDest  - 0.0%\n",
      "oldbalanceDest  - 0.0%\n",
      "newbalanceDest  - 0.0%\n",
      "isFraud  - 0.0%\n",
      "isFlaggedFraud  - 0.0%\n"
     ]
    }
   ],
   "source": [
    "for col in df.columns:\n",
    "    missing = np.mean(df[col].isnull())\n",
    "    print('{}  - {}%'.format(col, missing))"
   ]
  },
  {
   "cell_type": "code",
   "execution_count": 8,
   "id": "92cff6e3",
   "metadata": {},
   "outputs": [
    {
     "data": {
      "image/png": "[encoded data removed]",
      "text/plain": [
       "<Figure size 864x576 with 9 Axes>"
      ]
     },
     "metadata": {
      "needs_background": "light"
     },
     "output_type": "display_data"
    }
   ],
   "source": [
    "df.hist(edgecolor='black', linewidth=1.2, figsize=(12,8));\n",
    "plt.show();"
   ]
  },
  {
   "cell_type": "code",
   "execution_count": null,
   "id": "26a7b94d",
   "metadata": {},
   "outputs": [],
   "source": [
    "plt.figure(figsize=(8,6))\n",
    "ax = sns.countplot(data=data,x='type',hue='isFraud')\n",
    "for i in range(len(ax.containers)):\n",
    "    ax.bar_label(ax.containers[i])\n",
    "plt.title('Type Vs isFraud')\n",
    "plt.show()"
   ]
  },
  {
   "cell_type": "code",
   "execution_count": null,
   "id": "8b9410da",
   "metadata": {},
   "outputs": [],
   "source": []
  },
  {
   "cell_type": "code",
   "execution_count": null,
   "id": "7eb053c0",
   "metadata": {},
   "outputs": [],
   "source": []
  },
  {
   "cell_type": "code",
   "execution_count": 32,
   "id": "c0e99c8b",
   "metadata": {},
   "outputs": [
    {
     "data": {
      "text/plain": [
       "0    6354407\n",
       "1       8213\n",
       "Name: isFraud, dtype: int64"
      ]
     },
     "execution_count": 32,
     "metadata": {},
     "output_type": "execute_result"
    }
   ],
   "source": [
    "df['isFraud'].value_counts()"
   ]
  },
  {
   "cell_type": "markdown",
   "id": "858a13d4",
   "metadata": {},
   "source": [
    "## From 6.3 million past transactions we have 8213 transactions that are fraud"
   ]
  },
  {
   "cell_type": "code",
   "execution_count": 33,
   "id": "5a040a81",
   "metadata": {},
   "outputs": [],
   "source": [
    "df.type = pd.Categorical(df.type)"
   ]
  },
  {
   "cell_type": "code",
   "execution_count": 34,
   "id": "473dffd1",
   "metadata": {},
   "outputs": [],
   "source": [
    "df['type'] = df.type.cat.codes"
   ]
  },
  {
   "cell_type": "code",
   "execution_count": 35,
   "id": "452473f9",
   "metadata": {},
   "outputs": [],
   "source": [
    "df.nameOrig = pd.Categorical(df.nameOrig)"
   ]
  },
  {
   "cell_type": "code",
   "execution_count": 36,
   "id": "cd723057",
   "metadata": {},
   "outputs": [],
   "source": [
    "df['nameOrig'] = df.nameOrig.cat.codes"
   ]
  },
  {
   "cell_type": "code",
   "execution_count": 37,
   "id": "0fdab6bf",
   "metadata": {},
   "outputs": [],
   "source": [
    "df.nameDest = pd.Categorical(df.nameDest)"
   ]
  },
  {
   "cell_type": "code",
   "execution_count": 38,
   "id": "65a105c7",
   "metadata": {},
   "outputs": [],
   "source": [
    "df['nameDest'] = df.nameDest.cat.codes"
   ]
  },
  {
   "cell_type": "code",
   "execution_count": 39,
   "id": "a4d8c94d",
   "metadata": {},
   "outputs": [
    {
     "name": "stdout",
     "output_type": "stream",
     "text": [
      "<class 'pandas.core.frame.DataFrame'>\n",
      "RangeIndex: 6362620 entries, 0 to 6362619\n",
      "Data columns (total 11 columns):\n",
      " #   Column          Dtype  \n",
      "---  ------          -----  \n",
      " 0   step            int64  \n",
      " 1   type            int8   \n",
      " 2   amount          float64\n",
      " 3   nameOrig        int32  \n",
      " 4   oldbalanceOrg   float64\n",
      " 5   newbalanceOrig  float64\n",
      " 6   nameDest        int32  \n",
      " 7   oldbalanceDest  float64\n",
      " 8   newbalanceDest  float64\n",
      " 9   isFraud         int64  \n",
      " 10  isFlaggedFraud  int64  \n",
      "dtypes: float64(5), int32(2), int64(3), int8(1)\n",
      "memory usage: 443.0 MB\n"
     ]
    }
   ],
   "source": [
    "df.info()"
   ]
  },
  {
   "cell_type": "code",
   "execution_count": 40,
   "id": "062fecaa",
   "metadata": {},
   "outputs": [],
   "source": [
    "X = df.drop('isFraud', axis=1)\n",
    "y = df['isFraud']"
   ]
  },
  {
   "cell_type": "code",
   "execution_count": 41,
   "id": "3eb056bf",
   "metadata": {},
   "outputs": [
    {
     "data": {
      "text/html": [
       "<div>\n",
       "<style scoped>\n",
       "    .dataframe tbody tr th:only-of-type {\n",
       "        vertical-align: middle;\n",
       "    }\n",
       "\n",
       "    .dataframe tbody tr th {\n",
       "        vertical-align: top;\n",
       "    }\n",
       "\n",
       "    .dataframe thead th {\n",
       "        text-align: right;\n",
       "    }\n",
       "</style>\n",
       "<table border=\"1\" class=\"dataframe\">\n",
       "  <thead>\n",
       "    <tr style=\"text-align: right;\">\n",
       "      <th></th>\n",
       "      <th>step</th>\n",
       "      <th>type</th>\n",
       "      <th>amount</th>\n",
       "      <th>nameOrig</th>\n",
       "      <th>oldbalanceOrg</th>\n",
       "      <th>newbalanceOrig</th>\n",
       "      <th>nameDest</th>\n",
       "      <th>oldbalanceDest</th>\n",
       "      <th>newbalanceDest</th>\n",
       "      <th>isFlaggedFraud</th>\n",
       "    </tr>\n",
       "  </thead>\n",
       "  <tbody>\n",
       "    <tr>\n",
       "      <th>0</th>\n",
       "      <td>1</td>\n",
       "      <td>3</td>\n",
       "      <td>9839.64</td>\n",
       "      <td>757869</td>\n",
       "      <td>170136.0</td>\n",
       "      <td>160296.36</td>\n",
       "      <td>1662094</td>\n",
       "      <td>0.0</td>\n",
       "      <td>0.0</td>\n",
       "      <td>0</td>\n",
       "    </tr>\n",
       "    <tr>\n",
       "      <th>1</th>\n",
       "      <td>1</td>\n",
       "      <td>3</td>\n",
       "      <td>1864.28</td>\n",
       "      <td>2188998</td>\n",
       "      <td>21249.0</td>\n",
       "      <td>19384.72</td>\n",
       "      <td>1733924</td>\n",
       "      <td>0.0</td>\n",
       "      <td>0.0</td>\n",
       "      <td>0</td>\n",
       "    </tr>\n",
       "    <tr>\n",
       "      <th>2</th>\n",
       "      <td>1</td>\n",
       "      <td>4</td>\n",
       "      <td>181.00</td>\n",
       "      <td>1002156</td>\n",
       "      <td>181.0</td>\n",
       "      <td>0.00</td>\n",
       "      <td>439685</td>\n",
       "      <td>0.0</td>\n",
       "      <td>0.0</td>\n",
       "      <td>0</td>\n",
       "    </tr>\n",
       "    <tr>\n",
       "      <th>3</th>\n",
       "      <td>1</td>\n",
       "      <td>1</td>\n",
       "      <td>181.00</td>\n",
       "      <td>5828262</td>\n",
       "      <td>181.0</td>\n",
       "      <td>0.00</td>\n",
       "      <td>391696</td>\n",
       "      <td>21182.0</td>\n",
       "      <td>0.0</td>\n",
       "      <td>0</td>\n",
       "    </tr>\n",
       "    <tr>\n",
       "      <th>4</th>\n",
       "      <td>1</td>\n",
       "      <td>3</td>\n",
       "      <td>11668.14</td>\n",
       "      <td>3445981</td>\n",
       "      <td>41554.0</td>\n",
       "      <td>29885.86</td>\n",
       "      <td>828919</td>\n",
       "      <td>0.0</td>\n",
       "      <td>0.0</td>\n",
       "      <td>0</td>\n",
       "    </tr>\n",
       "  </tbody>\n",
       "</table>\n",
       "</div>"
      ],
      "text/plain": [
       "   step  type    amount  nameOrig  oldbalanceOrg  newbalanceOrig  nameDest  \\\n",
       "0     1     3   9839.64    757869       170136.0       160296.36   1662094   \n",
       "1     1     3   1864.28   2188998        21249.0        19384.72   1733924   \n",
       "2     1     4    181.00   1002156          181.0            0.00    439685   \n",
       "3     1     1    181.00   5828262          181.0            0.00    391696   \n",
       "4     1     3  11668.14   3445981        41554.0        29885.86    828919   \n",
       "\n",
       "   oldbalanceDest  newbalanceDest  isFlaggedFraud  \n",
       "0             0.0             0.0               0  \n",
       "1             0.0             0.0               0  \n",
       "2             0.0             0.0               0  \n",
       "3         21182.0             0.0               0  \n",
       "4             0.0             0.0               0  "
      ]
     },
     "execution_count": 41,
     "metadata": {},
     "output_type": "execute_result"
    }
   ],
   "source": [
    "X.head()"
   ]
  },
  {
   "cell_type": "code",
   "execution_count": 42,
   "id": "f517bb73",
   "metadata": {},
   "outputs": [],
   "source": [
    "X_train, X_test, y_train, y_test = train_test_split(X,y, test_size=0.3)"
   ]
  },
  {
   "cell_type": "code",
   "execution_count": 43,
   "id": "5ca37648",
   "metadata": {},
   "outputs": [
    {
     "data": {
      "text/html": [
       "<div>\n",
       "<style scoped>\n",
       "    .dataframe tbody tr th:only-of-type {\n",
       "        vertical-align: middle;\n",
       "    }\n",
       "\n",
       "    .dataframe tbody tr th {\n",
       "        vertical-align: top;\n",
       "    }\n",
       "\n",
       "    .dataframe thead th {\n",
       "        text-align: right;\n",
       "    }\n",
       "</style>\n",
       "<table border=\"1\" class=\"dataframe\">\n",
       "  <thead>\n",
       "    <tr style=\"text-align: right;\">\n",
       "      <th></th>\n",
       "      <th>step</th>\n",
       "      <th>type</th>\n",
       "      <th>amount</th>\n",
       "      <th>nameOrig</th>\n",
       "      <th>oldbalanceOrg</th>\n",
       "      <th>newbalanceOrig</th>\n",
       "      <th>nameDest</th>\n",
       "      <th>oldbalanceDest</th>\n",
       "      <th>newbalanceDest</th>\n",
       "      <th>isFlaggedFraud</th>\n",
       "    </tr>\n",
       "  </thead>\n",
       "  <tbody>\n",
       "    <tr>\n",
       "      <th>3428125</th>\n",
       "      <td>256</td>\n",
       "      <td>1</td>\n",
       "      <td>67618.08</td>\n",
       "      <td>5474045</td>\n",
       "      <td>0.0</td>\n",
       "      <td>0.00</td>\n",
       "      <td>221990</td>\n",
       "      <td>853476.15</td>\n",
       "      <td>921094.23</td>\n",
       "      <td>0</td>\n",
       "    </tr>\n",
       "    <tr>\n",
       "      <th>5362081</th>\n",
       "      <td>375</td>\n",
       "      <td>1</td>\n",
       "      <td>177845.82</td>\n",
       "      <td>4341132</td>\n",
       "      <td>130102.0</td>\n",
       "      <td>0.00</td>\n",
       "      <td>557151</td>\n",
       "      <td>0.00</td>\n",
       "      <td>177845.82</td>\n",
       "      <td>0</td>\n",
       "    </tr>\n",
       "    <tr>\n",
       "      <th>1055047</th>\n",
       "      <td>96</td>\n",
       "      <td>3</td>\n",
       "      <td>22866.43</td>\n",
       "      <td>1977798</td>\n",
       "      <td>0.0</td>\n",
       "      <td>0.00</td>\n",
       "      <td>1282102</td>\n",
       "      <td>0.00</td>\n",
       "      <td>0.00</td>\n",
       "      <td>0</td>\n",
       "    </tr>\n",
       "    <tr>\n",
       "      <th>4041924</th>\n",
       "      <td>299</td>\n",
       "      <td>1</td>\n",
       "      <td>232692.06</td>\n",
       "      <td>6113863</td>\n",
       "      <td>38816.0</td>\n",
       "      <td>0.00</td>\n",
       "      <td>398158</td>\n",
       "      <td>0.00</td>\n",
       "      <td>232692.06</td>\n",
       "      <td>0</td>\n",
       "    </tr>\n",
       "    <tr>\n",
       "      <th>5128527</th>\n",
       "      <td>356</td>\n",
       "      <td>3</td>\n",
       "      <td>12689.07</td>\n",
       "      <td>168965</td>\n",
       "      <td>142280.9</td>\n",
       "      <td>129591.83</td>\n",
       "      <td>2546321</td>\n",
       "      <td>0.00</td>\n",
       "      <td>0.00</td>\n",
       "      <td>0</td>\n",
       "    </tr>\n",
       "  </tbody>\n",
       "</table>\n",
       "</div>"
      ],
      "text/plain": [
       "         step  type     amount  nameOrig  oldbalanceOrg  newbalanceOrig  \\\n",
       "3428125   256     1   67618.08   5474045            0.0            0.00   \n",
       "5362081   375     1  177845.82   4341132       130102.0            0.00   \n",
       "1055047    96     3   22866.43   1977798            0.0            0.00   \n",
       "4041924   299     1  232692.06   6113863        38816.0            0.00   \n",
       "5128527   356     3   12689.07    168965       142280.9       129591.83   \n",
       "\n",
       "         nameDest  oldbalanceDest  newbalanceDest  isFlaggedFraud  \n",
       "3428125    221990       853476.15       921094.23               0  \n",
       "5362081    557151            0.00       177845.82               0  \n",
       "1055047   1282102            0.00            0.00               0  \n",
       "4041924    398158            0.00       232692.06               0  \n",
       "5128527   2546321            0.00            0.00               0  "
      ]
     },
     "execution_count": 43,
     "metadata": {},
     "output_type": "execute_result"
    }
   ],
   "source": [
    "X_train.head()"
   ]
  },
  {
   "cell_type": "code",
   "execution_count": 47,
   "id": "f3cd0c69",
   "metadata": {},
   "outputs": [
    {
     "name": "stdout",
     "output_type": "stream",
     "text": [
      "[22:28:14] WARNING: ..\\src\\learner.cc:1115: Starting in XGBoost 1.3.0, the default evaluation metric used with the objective 'binary:logistic' was changed from 'error' to 'logloss'. Explicitly set eval_metric if you'd like to restore the old behavior.\n",
      "CPU times: total: 38min 45s\n",
      "Wall time: 2min 6s\n"
     ]
    },
    {
     "data": {
      "text/plain": [
       "XGBRFClassifier(base_score=0.5, booster='gbtree', colsample_bylevel=1,\n",
       "                colsample_bytree=1, enable_categorical=False, gamma=0,\n",
       "                gpu_id=-1, importance_type=None, interaction_constraints='',\n",
       "                max_delta_step=0, max_depth=6, min_child_weight=1, missing=nan,\n",
       "                monotone_constraints='()', n_estimators=100, n_jobs=-1,\n",
       "                num_parallel_tree=100, objective='binary:logistic',\n",
       "                predictor='auto', random_state=0, reg_alpha=0,\n",
       "                scale_pos_weight=1, tree_method='approx', validate_parameters=1,\n",
       "                verbosity=None)"
      ]
     },
     "execution_count": 47,
     "metadata": {},
     "output_type": "execute_result"
    }
   ],
   "source": [
    "%%time\n",
    "np.random.seed(0)\n",
    "\n",
    "clf = XGBRFClassifier(n_jobs=-1)\n",
    "clf.fit(X_train,y_train);"
   ]
  },
  {
   "cell_type": "code",
   "execution_count": 48,
   "id": "b1adf428",
   "metadata": {},
   "outputs": [
    {
     "name": "stdout",
     "output_type": "stream",
     "text": [
      "              precision    recall  f1-score   support\n",
      "\n",
      "           0       1.00      1.00      1.00   1906279\n",
      "           1       0.98      0.66      0.79      2507\n",
      "\n",
      "    accuracy                           1.00   1908786\n",
      "   macro avg       0.99      0.83      0.89   1908786\n",
      "weighted avg       1.00      1.00      1.00   1908786\n",
      "\n"
     ]
    }
   ],
   "source": [
    "test_preds = clf.predict(X_test)\n",
    "print(classification_report(y_test,test_preds))"
   ]
  },
  {
   "cell_type": "code",
   "execution_count": 50,
   "id": "ca9661ff",
   "metadata": {},
   "outputs": [
    {
     "name": "stdout",
     "output_type": "stream",
     "text": [
      "              precision    recall  f1-score   support\n",
      "\n",
      "           0       1.00      1.00      1.00   1906279\n",
      "           1       0.98      0.78      0.87      2507\n",
      "\n",
      "    accuracy                           1.00   1908786\n",
      "   macro avg       0.99      0.89      0.93   1908786\n",
      "weighted avg       1.00      1.00      1.00   1908786\n",
      "\n",
      "CPU times: total: 56min 4s\n",
      "Wall time: 2min 39s\n"
     ]
    }
   ],
   "source": [
    "%%time\n",
    "clf_rf = RandomForestClassifier(n_jobs=-1, random_state=0)\n",
    "\n",
    "clf_rf.fit(X_train,y_train)\n",
    "test_preds = clf_rf.predict(X_test)\n",
    "print(classification_report(y_test,test_preds))"
   ]
  },
  {
   "cell_type": "code",
   "execution_count": 51,
   "id": "a8a0580b",
   "metadata": {},
   "outputs": [
    {
     "name": "stdout",
     "output_type": "stream",
     "text": [
      "              precision    recall  f1-score   support\n",
      "\n",
      "           0       1.00      1.00      1.00   1906279\n",
      "           1       1.00      0.70      0.82      2507\n",
      "\n",
      "    accuracy                           1.00   1908786\n",
      "   macro avg       1.00      0.85      0.91   1908786\n",
      "weighted avg       1.00      1.00      1.00   1908786\n",
      "\n",
      "CPU times: total: 31min 46s\n",
      "Wall time: 1min 30s\n"
     ]
    }
   ],
   "source": [
    "%%time\n",
    "clf_etc = ExtraTreesClassifier(n_jobs=-1,random_state=0)\n",
    "\n",
    "clf_etc.fit(X_train,y_train)\n",
    "clf_etc_preds = clf_etc.predict(X_test)\n",
    "print(classification_report(y_test,clf_etc_preds))"
   ]
  },
  {
   "cell_type": "code",
   "execution_count": 53,
   "id": "fe648e29",
   "metadata": {},
   "outputs": [
    {
     "name": "stdout",
     "output_type": "stream",
     "text": [
      "[0.08635553 0.07050338 0.14484184 0.02584428 0.26052206 0.02437866\n",
      " 0.02677586 0.06642529 0.29352133 0.00083176]\n"
     ]
    },
    {
     "data": {
      "text/plain": [
       "array([0.1296062 , 0.03119026, 0.1856181 , 0.04515733, 0.27315586,\n",
       "       0.05891543, 0.04649563, 0.05836041, 0.16963987, 0.00186091])"
      ]
     },
     "execution_count": 53,
     "metadata": {},
     "output_type": "execute_result"
    }
   ],
   "source": [
    "print(clf_rf.feature_importances_),\n",
    "clf_etc.feature_importances_"
   ]
  },
  {
   "cell_type": "markdown",
   "id": "43f595ea",
   "metadata": {},
   "source": [
    "## the newbalanceOrg is the most important feature as the model has learned because fraud transactions usually empty balance and cash everything out"
   ]
  },
  {
   "cell_type": "code",
   "execution_count": 54,
   "id": "425bd8bc",
   "metadata": {},
   "outputs": [
    {
     "name": "stdout",
     "output_type": "stream",
     "text": [
      "              precision    recall  f1-score   support\n",
      "\n",
      "           0       1.00      1.00      1.00   1906279\n",
      "           1       0.79      0.44      0.56      2507\n",
      "\n",
      "    accuracy                           1.00   1908786\n",
      "   macro avg       0.89      0.72      0.78   1908786\n",
      "weighted avg       1.00      1.00      1.00   1908786\n",
      "\n",
      "CPU times: total: 1.69 s\n",
      "Wall time: 1min 2s\n"
     ]
    }
   ],
   "source": [
    "%%time\n",
    "clf_lr = LogisticRegression(n_jobs=-1,random_state=0)\n",
    "\n",
    "clf_lr.fit(X_train,y_train)\n",
    "clf_lr_preds = clf_lr.predict(X_test)\n",
    "print(classification_report(y_test,clf_lr_preds))"
   ]
  },
  {
   "cell_type": "code",
   "execution_count": 55,
   "id": "1c9e460e",
   "metadata": {},
   "outputs": [
    {
     "name": "stdout",
     "output_type": "stream",
     "text": [
      "              precision    recall  f1-score   support\n",
      "\n",
      "           0       1.00      1.00      1.00   1906279\n",
      "           1       0.92      0.60      0.73      2507\n",
      "\n",
      "    accuracy                           1.00   1908786\n",
      "   macro avg       0.96      0.80      0.86   1908786\n",
      "weighted avg       1.00      1.00      1.00   1908786\n",
      "\n",
      "CPU times: total: 4min 31s\n",
      "Wall time: 4min 39s\n"
     ]
    }
   ],
   "source": [
    "%%time\n",
    "clf_ada = AdaBoostClassifier(random_state=0)\n",
    "\n",
    "clf_ada.fit(X_train,y_train)\n",
    "clf_ada_preds = clf_ada.predict(X_test)\n",
    "print(classification_report(y_test,clf_ada_preds))"
   ]
  },
  {
   "cell_type": "code",
   "execution_count": 56,
   "id": "53b97424",
   "metadata": {},
   "outputs": [
    {
     "name": "stdout",
     "output_type": "stream",
     "text": [
      "              precision    recall  f1-score   support\n",
      "\n",
      "           0       1.00      1.00      1.00   1906279\n",
      "           1       0.73      0.56      0.63      2507\n",
      "\n",
      "    accuracy                           1.00   1908786\n",
      "   macro avg       0.87      0.78      0.82   1908786\n",
      "weighted avg       1.00      1.00      1.00   1908786\n",
      "\n",
      "CPU times: total: 28.5 s\n",
      "Wall time: 29.5 s\n"
     ]
    }
   ],
   "source": [
    "%%time\n",
    "clf_sgd = SGDClassifier(n_jobs=-1, random_state=0)\n",
    "\n",
    "clf_sgd.fit(X_train,y_train)\n",
    "clf_sgd_preds = clf_sgd.predict(X_test)\n",
    "print(classification_report(y_test,clf_sgd_preds))"
   ]
  },
  {
   "cell_type": "code",
   "execution_count": 57,
   "id": "19725596",
   "metadata": {},
   "outputs": [
    {
     "data": {
      "image/png": "[encoded data removed]",
      "text/plain": [
       "<Figure size 432x288 with 1 Axes>"
      ]
     },
     "metadata": {
      "needs_background": "light"
     },
     "output_type": "display_data"
    }
   ],
   "source": [
    "from sklearn.metrics import PrecisionRecallDisplay\n",
    "\n",
    "PrecisionRecallDisplay.from_estimator(clf_rf, X_test, y_test);"
   ]
  },
  {
   "cell_type": "code",
   "execution_count": 66,
   "id": "44ca2823",
   "metadata": {},
   "outputs": [],
   "source": [
    "GRID = {\"n_estimators\": [80,60,40],\n",
    "       \"criterion\": [\"gini\", \"entropy\"]}"
   ]
  },
  {
   "cell_type": "code",
   "execution_count": 67,
   "id": "bee132f2",
   "metadata": {},
   "outputs": [
    {
     "name": "stdout",
     "output_type": "stream",
     "text": [
      "Fitting 5 folds for each of 6 candidates, totalling 30 fits\n",
      "[CV 1/5] END ...criterion=gini, n_estimators=80;, score=0.790 total time= 1.6min\n",
      "[CV 2/5] END ...criterion=gini, n_estimators=80;, score=0.775 total time= 1.4min\n",
      "[CV 3/5] END ...criterion=gini, n_estimators=80;, score=0.748 total time= 1.4min\n",
      "[CV 4/5] END ...criterion=gini, n_estimators=80;, score=0.763 total time= 1.5min\n",
      "[CV 5/5] END ...criterion=gini, n_estimators=80;, score=0.780 total time= 1.5min\n",
      "[CV 1/5] END ...criterion=gini, n_estimators=60;, score=0.791 total time= 1.1min\n",
      "[CV 2/5] END ...criterion=gini, n_estimators=60;, score=0.771 total time= 1.1min\n",
      "[CV 3/5] END ...criterion=gini, n_estimators=60;, score=0.748 total time= 1.1min\n",
      "[CV 4/5] END ...criterion=gini, n_estimators=60;, score=0.764 total time= 1.1min\n",
      "[CV 5/5] END ...criterion=gini, n_estimators=60;, score=0.780 total time= 1.1min\n",
      "[CV 1/5] END ...criterion=gini, n_estimators=40;, score=0.789 total time=  46.0s\n",
      "[CV 2/5] END ...criterion=gini, n_estimators=40;, score=0.772 total time=  44.8s\n",
      "[CV 3/5] END ...criterion=gini, n_estimators=40;, score=0.747 total time=  44.9s\n",
      "[CV 4/5] END ...criterion=gini, n_estimators=40;, score=0.765 total time=  45.3s\n",
      "[CV 5/5] END ...criterion=gini, n_estimators=40;, score=0.777 total time=  44.6s\n",
      "[CV 1/5] END criterion=entropy, n_estimators=80;, score=0.788 total time=  58.3s\n",
      "[CV 2/5] END criterion=entropy, n_estimators=80;, score=0.770 total time=  57.4s\n",
      "[CV 3/5] END criterion=entropy, n_estimators=80;, score=0.752 total time=  57.3s\n",
      "[CV 4/5] END criterion=entropy, n_estimators=80;, score=0.764 total time=  59.5s\n",
      "[CV 5/5] END criterion=entropy, n_estimators=80;, score=0.773 total time=  57.2s\n",
      "[CV 1/5] END criterion=entropy, n_estimators=60;, score=0.789 total time=  43.8s\n",
      "[CV 2/5] END criterion=entropy, n_estimators=60;, score=0.771 total time=  43.7s\n",
      "[CV 3/5] END criterion=entropy, n_estimators=60;, score=0.749 total time=  44.0s\n",
      "[CV 4/5] END criterion=entropy, n_estimators=60;, score=0.764 total time=  43.9s\n",
      "[CV 5/5] END criterion=entropy, n_estimators=60;, score=0.773 total time=  43.0s\n",
      "[CV 1/5] END criterion=entropy, n_estimators=40;, score=0.789 total time=  30.6s\n",
      "[CV 2/5] END criterion=entropy, n_estimators=40;, score=0.773 total time=  29.7s\n",
      "[CV 3/5] END criterion=entropy, n_estimators=40;, score=0.750 total time=  30.0s\n",
      "[CV 4/5] END criterion=entropy, n_estimators=40;, score=0.762 total time=  30.6s\n",
      "[CV 5/5] END criterion=entropy, n_estimators=40;, score=0.772 total time=  29.8s\n",
      "CPU times: total: 41min 11s\n",
      "Wall time: 29min 41s\n"
     ]
    },
    {
     "data": {
      "text/plain": [
       "GridSearchCV(cv=5, estimator=RandomForestClassifier(n_jobs=-1, random_state=0),\n",
       "             param_grid={'criterion': ['gini', 'entropy'],\n",
       "                         'n_estimators': [80, 60, 40]},\n",
       "             scoring='recall', verbose=3)"
      ]
     },
     "execution_count": 67,
     "metadata": {},
     "output_type": "execute_result"
    }
   ],
   "source": [
    "%%time\n",
    "clf_rf_gs = GridSearchCV(clf_rf, GRID, scoring='recall', cv=5, verbose=3)\n",
    "\n",
    "clf_rf_gs.fit(X_train,y_train)"
   ]
  },
  {
   "cell_type": "code",
   "execution_count": 68,
   "id": "77bf0f34",
   "metadata": {},
   "outputs": [
    {
     "data": {
      "text/plain": [
       "{'criterion': 'gini', 'n_estimators': 80}"
      ]
     },
     "execution_count": 68,
     "metadata": {},
     "output_type": "execute_result"
    }
   ],
   "source": [
    "clf_rf_gs.best_params_"
   ]
  },
  {
   "cell_type": "code",
   "execution_count": null,
   "id": "2636e9ca",
   "metadata": {},
   "outputs": [],
   "source": []
  }
 ],
 "metadata": {
  "kernelspec": {
   "display_name": "Python 3 (ipykernel)",
   "language": "python",
   "name": "python3"
  },
  "language_info": {
   "codemirror_mode": {
    "name": "ipython",
    "version": 3
   },
   "file_extension": ".py",
   "mimetype": "text/x-python",
   "name": "python",
   "nbconvert_exporter": "python",
   "pygments_lexer": "ipython3",
   "version": "3.9.12"
  }
 },
 "nbformat": 4,
 "nbformat_minor": 5
}
